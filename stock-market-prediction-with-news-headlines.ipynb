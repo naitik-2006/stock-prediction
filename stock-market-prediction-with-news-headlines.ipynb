{
 "cells": [
  {
   "cell_type": "code",
   "execution_count": 1,
   "id": "e5be3eac",
   "metadata": {
    "_cell_guid": "b1076dfc-b9ad-4769-8c92-a6c4dae69d19",
    "_uuid": "8f2839f25d086af736a60e9eeb907d3b93b6e0e5",
    "execution": {
     "iopub.execute_input": "2024-03-02T15:53:07.856044Z",
     "iopub.status.busy": "2024-03-02T15:53:07.855307Z",
     "iopub.status.idle": "2024-03-02T15:53:10.824160Z",
     "shell.execute_reply": "2024-03-02T15:53:10.822752Z"
    },
    "papermill": {
     "duration": 2.995411,
     "end_time": "2024-03-02T15:53:10.828732",
     "exception": false,
     "start_time": "2024-03-02T15:53:07.833321",
     "status": "completed"
    },
    "tags": []
   },
   "outputs": [
    {
     "name": "stdout",
     "output_type": "stream",
     "text": [
      "/kaggle/input/farzi-test/Test_DJIA_Table.csv\n",
      "/kaggle/input/stock-market-prediction-and-sentimental-analysis/sample_submission.csv\n",
      "/kaggle/input/stock-market-prediction-and-sentimental-analysis/Combined_News_DJIA(train).csv\n",
      "/kaggle/input/stock-market-prediction-and-sentimental-analysis/Test_DJIA_Table.csv\n",
      "/kaggle/input/stock-market-prediction-and-sentimental-analysis/TEST_Redit_news.csv\n",
      "/kaggle/input/stock-market-prediction-and-sentimental-analysis/RedditNews(train).csv\n",
      "/kaggle/input/stock-market-prediction-and-sentimental-analysis/Test_Combined_News.csv\n",
      "/kaggle/input/stock-market-prediction-and-sentimental-analysis/DJIA_table(train).csv\n"
     ]
    },
    {
     "name": "stderr",
     "output_type": "stream",
     "text": [
      "/opt/conda/lib/python3.10/site-packages/nltk/twitter/__init__.py:20: UserWarning: The twython library has not been installed. Some functionality from the twitter package will not be available.\n",
      "  warnings.warn(\"The twython library has not been installed. \"\n"
     ]
    }
   ],
   "source": [
    "# This Python 3 environment comes with many helpful analytics libraries installed\n",
    "# It is defined by the kaggle/python Docker image: https://github.com/kaggle/docker-python\n",
    "# For example, here's several helpful packages to load\n",
    "\n",
    "import numpy as np # linear algebra\n",
    "import pandas as pd # data processing, CSV file I/O (e.g. pd.read_csv)\n",
    "from nltk.sentiment.vader import SentimentIntensityAnalyzer\n",
    "# Input data files are available in the read-only \"../input/\" directory\n",
    "# For example, running this (by clicking run or pressing Shift+Enter) will list all files under the input directory\n",
    "# nltk.download('all')\n",
    "import os\n",
    "for dirname, _, filenames in os.walk('/kaggle/input'):\n",
    "    for filename in filenames:\n",
    "        print(os.path.join(dirname, filename))\n",
    "\n",
    "# You can write up to 20GB to the current directory (/kaggle/working/) that gets preserved as output when you create a version using \"Save & Run All\" \n",
    "# You can also write temporary files to /kaggle/temp/, but they won't be saved outside of the current session"
   ]
  },
  {
   "cell_type": "code",
   "execution_count": 2,
   "id": "2df3cc36",
   "metadata": {
    "execution": {
     "iopub.execute_input": "2024-03-02T15:53:10.870650Z",
     "iopub.status.busy": "2024-03-02T15:53:10.869772Z",
     "iopub.status.idle": "2024-03-02T15:53:11.346197Z",
     "shell.execute_reply": "2024-03-02T15:53:11.344811Z"
    },
    "papermill": {
     "duration": 0.501862,
     "end_time": "2024-03-02T15:53:11.350729",
     "exception": false,
     "start_time": "2024-03-02T15:53:10.848867",
     "status": "completed"
    },
    "tags": []
   },
   "outputs": [],
   "source": [
    "news = pd.read_csv(\"../input/stock-market-prediction-and-sentimental-analysis/Combined_News_DJIA(train).csv\")\n",
    "df_reddit_news = pd.read_csv(\"../input/stock-market-prediction-and-sentimental-analysis/RedditNews(train).csv\")\n",
    "df = pd.read_csv(\"../input/stock-market-prediction-and-sentimental-analysis/DJIA_table(train).csv\")"
   ]
  },
  {
   "cell_type": "code",
   "execution_count": 3,
   "id": "397a6f8d",
   "metadata": {
    "execution": {
     "iopub.execute_input": "2024-03-02T15:53:11.398280Z",
     "iopub.status.busy": "2024-03-02T15:53:11.397863Z",
     "iopub.status.idle": "2024-03-02T15:53:11.404302Z",
     "shell.execute_reply": "2024-03-02T15:53:11.402701Z"
    },
    "papermill": {
     "duration": 0.032057,
     "end_time": "2024-03-02T15:53:11.407815",
     "exception": false,
     "start_time": "2024-03-02T15:53:11.375758",
     "status": "completed"
    },
    "tags": []
   },
   "outputs": [],
   "source": [
    "import numpy as np\n",
    "import pandas as pd\n",
    "import matplotlib.pyplot as plt\n",
    "import re\n",
    "import nltk\n",
    "from nltk.corpus import stopwords\n",
    "from nltk.stem import WordNetLemmatizer\n",
    "from nltk.stem.porter import PorterStemmer\n",
    "from collections import Counter"
   ]
  },
  {
   "cell_type": "code",
   "execution_count": 4,
   "id": "fb3d129c",
   "metadata": {
    "execution": {
     "iopub.execute_input": "2024-03-02T15:53:11.461349Z",
     "iopub.status.busy": "2024-03-02T15:53:11.460986Z",
     "iopub.status.idle": "2024-03-02T15:53:11.487773Z",
     "shell.execute_reply": "2024-03-02T15:53:11.486618Z"
    },
    "papermill": {
     "duration": 0.055045,
     "end_time": "2024-03-02T15:53:11.490818",
     "exception": false,
     "start_time": "2024-03-02T15:53:11.435773",
     "status": "completed"
    },
    "tags": []
   },
   "outputs": [
    {
     "name": "stderr",
     "output_type": "stream",
     "text": [
      "/tmp/ipykernel_18/1056846339.py:1: UserWarning: Parsing dates in %d-%m-%Y format when dayfirst=False (the default) was specified. Pass `dayfirst=True` or specify a format to silence this warning.\n",
      "  df['Date'] = pd.to_datetime(df['Date'])\n"
     ]
    },
    {
     "data": {
      "text/plain": [
       "(1863, 7)"
      ]
     },
     "execution_count": 4,
     "metadata": {},
     "output_type": "execute_result"
    }
   ],
   "source": [
    "df['Date'] = pd.to_datetime(df['Date'])\n",
    "df.shape"
   ]
  },
  {
   "cell_type": "code",
   "execution_count": 5,
   "id": "cf9d0e42",
   "metadata": {
    "execution": {
     "iopub.execute_input": "2024-03-02T15:53:11.539091Z",
     "iopub.status.busy": "2024-03-02T15:53:11.538284Z",
     "iopub.status.idle": "2024-03-02T15:53:11.548998Z",
     "shell.execute_reply": "2024-03-02T15:53:11.547623Z"
    },
    "papermill": {
     "duration": 0.040744,
     "end_time": "2024-03-02T15:53:11.551399",
     "exception": false,
     "start_time": "2024-03-02T15:53:11.510655",
     "status": "completed"
    },
    "tags": []
   },
   "outputs": [
    {
     "data": {
      "text/plain": [
       "(1989, 27)"
      ]
     },
     "execution_count": 5,
     "metadata": {},
     "output_type": "execute_result"
    }
   ],
   "source": [
    "news['Date'] = pd.to_datetime(news['Date'])\n",
    "news.shape"
   ]
  },
  {
   "cell_type": "code",
   "execution_count": 6,
   "id": "b9e9b708",
   "metadata": {
    "execution": {
     "iopub.execute_input": "2024-03-02T15:53:11.594653Z",
     "iopub.status.busy": "2024-03-02T15:53:11.593849Z",
     "iopub.status.idle": "2024-03-02T15:53:11.615583Z",
     "shell.execute_reply": "2024-03-02T15:53:11.614435Z"
    },
    "papermill": {
     "duration": 0.04678,
     "end_time": "2024-03-02T15:53:11.618025",
     "exception": false,
     "start_time": "2024-03-02T15:53:11.571245",
     "status": "completed"
    },
    "tags": []
   },
   "outputs": [
    {
     "data": {
      "text/plain": [
       "(1863, 27)"
      ]
     },
     "execution_count": 6,
     "metadata": {},
     "output_type": "execute_result"
    }
   ],
   "source": [
    "news = news[df['Date'].max() >= news['Date']]\n",
    "news = news[news['Date'] >= df['Date'].min()]\n",
    "news.shape"
   ]
  },
  {
   "cell_type": "code",
   "execution_count": 7,
   "id": "db855311",
   "metadata": {
    "execution": {
     "iopub.execute_input": "2024-03-02T15:53:11.660501Z",
     "iopub.status.busy": "2024-03-02T15:53:11.659697Z",
     "iopub.status.idle": "2024-03-02T15:53:11.694243Z",
     "shell.execute_reply": "2024-03-02T15:53:11.693114Z"
    },
    "papermill": {
     "duration": 0.059724,
     "end_time": "2024-03-02T15:53:11.697804",
     "exception": false,
     "start_time": "2024-03-02T15:53:11.638080",
     "status": "completed"
    },
    "tags": []
   },
   "outputs": [
    {
     "data": {
      "text/html": [
       "<div>\n",
       "<style scoped>\n",
       "    .dataframe tbody tr th:only-of-type {\n",
       "        vertical-align: middle;\n",
       "    }\n",
       "\n",
       "    .dataframe tbody tr th {\n",
       "        vertical-align: top;\n",
       "    }\n",
       "\n",
       "    .dataframe thead th {\n",
       "        text-align: right;\n",
       "    }\n",
       "</style>\n",
       "<table border=\"1\" class=\"dataframe\">\n",
       "  <thead>\n",
       "    <tr style=\"text-align: right;\">\n",
       "      <th></th>\n",
       "      <th>Date</th>\n",
       "      <th>Label</th>\n",
       "      <th>Top1</th>\n",
       "      <th>Top2</th>\n",
       "      <th>Top3</th>\n",
       "      <th>Top4</th>\n",
       "      <th>Top5</th>\n",
       "      <th>Top6</th>\n",
       "      <th>Top7</th>\n",
       "      <th>Top8</th>\n",
       "      <th>...</th>\n",
       "      <th>Top16</th>\n",
       "      <th>Top17</th>\n",
       "      <th>Top18</th>\n",
       "      <th>Top19</th>\n",
       "      <th>Top20</th>\n",
       "      <th>Top21</th>\n",
       "      <th>Top22</th>\n",
       "      <th>Top23</th>\n",
       "      <th>Top24</th>\n",
       "      <th>Top25</th>\n",
       "    </tr>\n",
       "  </thead>\n",
       "  <tbody>\n",
       "    <tr>\n",
       "      <th>0</th>\n",
       "      <td>2008-08-08</td>\n",
       "      <td>0</td>\n",
       "      <td>b\"Georgia 'downs two Russian warplanes' as cou...</td>\n",
       "      <td>b'BREAKING: Musharraf to be impeached.'</td>\n",
       "      <td>b'Russia Today: Columns of troops roll into So...</td>\n",
       "      <td>b'Russian tanks are moving towards the capital...</td>\n",
       "      <td>b\"Afghan children raped with 'impunity,' U.N. ...</td>\n",
       "      <td>b'150 Russian tanks have entered South Ossetia...</td>\n",
       "      <td>b\"Breaking: Georgia invades South Ossetia, Rus...</td>\n",
       "      <td>b\"The 'enemy combatent' trials are nothing but...</td>\n",
       "      <td>...</td>\n",
       "      <td>b'Georgia Invades South Ossetia - if Russia ge...</td>\n",
       "      <td>b'Al-Qaeda Faces Islamist Backlash'</td>\n",
       "      <td>b'Condoleezza Rice: \"The US would not act to p...</td>\n",
       "      <td>b'This is a busy day:  The European Union has ...</td>\n",
       "      <td>b\"Georgia will withdraw 1,000 soldiers from Ir...</td>\n",
       "      <td>b'Why the Pentagon Thinks Attacking Iran is a ...</td>\n",
       "      <td>b'Caucasus in crisis: Georgia invades South Os...</td>\n",
       "      <td>b'Indian shoe manufactory  - And again in a se...</td>\n",
       "      <td>b'Visitors Suffering from Mental Illnesses Ban...</td>\n",
       "      <td>b\"No Help for Mexico's Kidnapping Surge\"</td>\n",
       "    </tr>\n",
       "    <tr>\n",
       "      <th>1</th>\n",
       "      <td>2008-08-11</td>\n",
       "      <td>1</td>\n",
       "      <td>b'Why wont America and Nato help us? If they w...</td>\n",
       "      <td>b'Bush puts foot down on Georgian conflict'</td>\n",
       "      <td>b\"Jewish Georgian minister: Thanks to Israeli ...</td>\n",
       "      <td>b'Georgian army flees in disarray as Russians ...</td>\n",
       "      <td>b\"Olympic opening ceremony fireworks 'faked'\"</td>\n",
       "      <td>b'What were the Mossad with fraudulent New Zea...</td>\n",
       "      <td>b'Russia angered by Israeli military sale to G...</td>\n",
       "      <td>b'An American citizen living in S.Ossetia blam...</td>\n",
       "      <td>...</td>\n",
       "      <td>b'Israel and the US behind the Georgian aggres...</td>\n",
       "      <td>b'\"Do not believe TV, neither Russian nor Geor...</td>\n",
       "      <td>b'Riots are still going on in Montreal (Canada...</td>\n",
       "      <td>b'China to overtake US as largest manufacturer'</td>\n",
       "      <td>b'War in South Ossetia [PICS]'</td>\n",
       "      <td>b'Israeli Physicians Group Condemns State Tort...</td>\n",
       "      <td>b' Russia has just beaten the United States ov...</td>\n",
       "      <td>b'Perhaps *the* question about the Georgia - R...</td>\n",
       "      <td>b'Russia is so much better at war'</td>\n",
       "      <td>b\"So this is what it's come to: trading sex fo...</td>\n",
       "    </tr>\n",
       "    <tr>\n",
       "      <th>2</th>\n",
       "      <td>2008-08-12</td>\n",
       "      <td>0</td>\n",
       "      <td>b'Remember that adorable 9-year-old who sang a...</td>\n",
       "      <td>b\"Russia 'ends Georgia operation'\"</td>\n",
       "      <td>b'\"If we had no sexual harassment we would hav...</td>\n",
       "      <td>b\"Al-Qa'eda is losing support in Iraq because ...</td>\n",
       "      <td>b'Ceasefire in Georgia: Putin Outmaneuvers the...</td>\n",
       "      <td>b'Why Microsoft and Intel tried to kill the XO...</td>\n",
       "      <td>b'Stratfor: The Russo-Georgian War and the Bal...</td>\n",
       "      <td>b\"I'm Trying to Get a Sense of This Whole Geor...</td>\n",
       "      <td>...</td>\n",
       "      <td>b'U.S. troops still in Georgia (did you know t...</td>\n",
       "      <td>b'Why Russias response to Georgia was right'</td>\n",
       "      <td>b'Gorbachev accuses U.S. of making a \"serious ...</td>\n",
       "      <td>b'Russia, Georgia, and NATO: Cold War Two'</td>\n",
       "      <td>b'Remember that adorable 62-year-old who led y...</td>\n",
       "      <td>b'War in Georgia: The Israeli connection'</td>\n",
       "      <td>b'All signs point to the US encouraging Georgi...</td>\n",
       "      <td>b'Christopher King argues that the US and NATO...</td>\n",
       "      <td>b'America: The New Mexico?'</td>\n",
       "      <td>b\"BBC NEWS | Asia-Pacific | Extinction 'by man...</td>\n",
       "    </tr>\n",
       "    <tr>\n",
       "      <th>3</th>\n",
       "      <td>2008-08-13</td>\n",
       "      <td>0</td>\n",
       "      <td>b' U.S. refuses Israel weapons to attack Iran:...</td>\n",
       "      <td>b\"When the president ordered to attack Tskhinv...</td>\n",
       "      <td>b' Israel clears troops who killed Reuters cam...</td>\n",
       "      <td>b'Britain\\'s policy of being tough on drugs is...</td>\n",
       "      <td>b'Body of 14 year old found in trunk; Latest (...</td>\n",
       "      <td>b'China has moved 10 *million* quake survivors...</td>\n",
       "      <td>b\"Bush announces Operation Get All Up In Russi...</td>\n",
       "      <td>b'Russian forces sink Georgian ships '</td>\n",
       "      <td>...</td>\n",
       "      <td>b'Elephants extinct by 2020?'</td>\n",
       "      <td>b'US humanitarian missions soon in Georgia - i...</td>\n",
       "      <td>b\"Georgia's DDOS came from US sources\"</td>\n",
       "      <td>b'Russian convoy heads into Georgia, violating...</td>\n",
       "      <td>b'Israeli defence minister: US against strike ...</td>\n",
       "      <td>b'Gorbachev: We Had No Choice'</td>\n",
       "      <td>b'Witness: Russian forces head towards Tbilisi...</td>\n",
       "      <td>b' Quarter of Russians blame U.S. for conflict...</td>\n",
       "      <td>b'Georgian president  says US military will ta...</td>\n",
       "      <td>b'2006: Nobel laureate Aleksander Solzhenitsyn...</td>\n",
       "    </tr>\n",
       "    <tr>\n",
       "      <th>4</th>\n",
       "      <td>2008-08-14</td>\n",
       "      <td>1</td>\n",
       "      <td>b'All the experts admit that we should legalis...</td>\n",
       "      <td>b'War in South Osetia - 89 pictures made by a ...</td>\n",
       "      <td>b'Swedish wrestler Ara Abrahamian throws away ...</td>\n",
       "      <td>b'Russia exaggerated the death toll in South O...</td>\n",
       "      <td>b'Missile That Killed 9 Inside Pakistan May Ha...</td>\n",
       "      <td>b\"Rushdie Condemns Random House's Refusal to P...</td>\n",
       "      <td>b'Poland and US agree to missle defense deal. ...</td>\n",
       "      <td>b'Will the Russians conquer Tblisi? Bet on it,...</td>\n",
       "      <td>...</td>\n",
       "      <td>b'Bank analyst forecast Georgian crisis 2 days...</td>\n",
       "      <td>b\"Georgia confict could set back Russia's US r...</td>\n",
       "      <td>b'War in the Caucasus is as much the product o...</td>\n",
       "      <td>b'\"Non-media\" photos of South Ossetia/Georgia ...</td>\n",
       "      <td>b'Georgian TV reporter shot by Russian sniper ...</td>\n",
       "      <td>b'Saudi Arabia: Mother moves to block child ma...</td>\n",
       "      <td>b'Taliban wages war on humanitarian aid workers'</td>\n",
       "      <td>b'Russia: World  \"can forget about\" Georgia\\'s...</td>\n",
       "      <td>b'Darfur rebels accuse Sudan of mounting major...</td>\n",
       "      <td>b'Philippines : Peace Advocate say Muslims nee...</td>\n",
       "    </tr>\n",
       "  </tbody>\n",
       "</table>\n",
       "<p>5 rows × 27 columns</p>\n",
       "</div>"
      ],
      "text/plain": [
       "        Date  Label                                               Top1  \\\n",
       "0 2008-08-08      0  b\"Georgia 'downs two Russian warplanes' as cou...   \n",
       "1 2008-08-11      1  b'Why wont America and Nato help us? If they w...   \n",
       "2 2008-08-12      0  b'Remember that adorable 9-year-old who sang a...   \n",
       "3 2008-08-13      0  b' U.S. refuses Israel weapons to attack Iran:...   \n",
       "4 2008-08-14      1  b'All the experts admit that we should legalis...   \n",
       "\n",
       "                                                Top2  \\\n",
       "0            b'BREAKING: Musharraf to be impeached.'   \n",
       "1        b'Bush puts foot down on Georgian conflict'   \n",
       "2                 b\"Russia 'ends Georgia operation'\"   \n",
       "3  b\"When the president ordered to attack Tskhinv...   \n",
       "4  b'War in South Osetia - 89 pictures made by a ...   \n",
       "\n",
       "                                                Top3  \\\n",
       "0  b'Russia Today: Columns of troops roll into So...   \n",
       "1  b\"Jewish Georgian minister: Thanks to Israeli ...   \n",
       "2  b'\"If we had no sexual harassment we would hav...   \n",
       "3  b' Israel clears troops who killed Reuters cam...   \n",
       "4  b'Swedish wrestler Ara Abrahamian throws away ...   \n",
       "\n",
       "                                                Top4  \\\n",
       "0  b'Russian tanks are moving towards the capital...   \n",
       "1  b'Georgian army flees in disarray as Russians ...   \n",
       "2  b\"Al-Qa'eda is losing support in Iraq because ...   \n",
       "3  b'Britain\\'s policy of being tough on drugs is...   \n",
       "4  b'Russia exaggerated the death toll in South O...   \n",
       "\n",
       "                                                Top5  \\\n",
       "0  b\"Afghan children raped with 'impunity,' U.N. ...   \n",
       "1      b\"Olympic opening ceremony fireworks 'faked'\"   \n",
       "2  b'Ceasefire in Georgia: Putin Outmaneuvers the...   \n",
       "3  b'Body of 14 year old found in trunk; Latest (...   \n",
       "4  b'Missile That Killed 9 Inside Pakistan May Ha...   \n",
       "\n",
       "                                                Top6  \\\n",
       "0  b'150 Russian tanks have entered South Ossetia...   \n",
       "1  b'What were the Mossad with fraudulent New Zea...   \n",
       "2  b'Why Microsoft and Intel tried to kill the XO...   \n",
       "3  b'China has moved 10 *million* quake survivors...   \n",
       "4  b\"Rushdie Condemns Random House's Refusal to P...   \n",
       "\n",
       "                                                Top7  \\\n",
       "0  b\"Breaking: Georgia invades South Ossetia, Rus...   \n",
       "1  b'Russia angered by Israeli military sale to G...   \n",
       "2  b'Stratfor: The Russo-Georgian War and the Bal...   \n",
       "3  b\"Bush announces Operation Get All Up In Russi...   \n",
       "4  b'Poland and US agree to missle defense deal. ...   \n",
       "\n",
       "                                                Top8  ...  \\\n",
       "0  b\"The 'enemy combatent' trials are nothing but...  ...   \n",
       "1  b'An American citizen living in S.Ossetia blam...  ...   \n",
       "2  b\"I'm Trying to Get a Sense of This Whole Geor...  ...   \n",
       "3             b'Russian forces sink Georgian ships '  ...   \n",
       "4  b'Will the Russians conquer Tblisi? Bet on it,...  ...   \n",
       "\n",
       "                                               Top16  \\\n",
       "0  b'Georgia Invades South Ossetia - if Russia ge...   \n",
       "1  b'Israel and the US behind the Georgian aggres...   \n",
       "2  b'U.S. troops still in Georgia (did you know t...   \n",
       "3                      b'Elephants extinct by 2020?'   \n",
       "4  b'Bank analyst forecast Georgian crisis 2 days...   \n",
       "\n",
       "                                               Top17  \\\n",
       "0                b'Al-Qaeda Faces Islamist Backlash'   \n",
       "1  b'\"Do not believe TV, neither Russian nor Geor...   \n",
       "2       b'Why Russias response to Georgia was right'   \n",
       "3  b'US humanitarian missions soon in Georgia - i...   \n",
       "4  b\"Georgia confict could set back Russia's US r...   \n",
       "\n",
       "                                               Top18  \\\n",
       "0  b'Condoleezza Rice: \"The US would not act to p...   \n",
       "1  b'Riots are still going on in Montreal (Canada...   \n",
       "2  b'Gorbachev accuses U.S. of making a \"serious ...   \n",
       "3             b\"Georgia's DDOS came from US sources\"   \n",
       "4  b'War in the Caucasus is as much the product o...   \n",
       "\n",
       "                                               Top19  \\\n",
       "0  b'This is a busy day:  The European Union has ...   \n",
       "1    b'China to overtake US as largest manufacturer'   \n",
       "2         b'Russia, Georgia, and NATO: Cold War Two'   \n",
       "3  b'Russian convoy heads into Georgia, violating...   \n",
       "4  b'\"Non-media\" photos of South Ossetia/Georgia ...   \n",
       "\n",
       "                                               Top20  \\\n",
       "0  b\"Georgia will withdraw 1,000 soldiers from Ir...   \n",
       "1                     b'War in South Ossetia [PICS]'   \n",
       "2  b'Remember that adorable 62-year-old who led y...   \n",
       "3  b'Israeli defence minister: US against strike ...   \n",
       "4  b'Georgian TV reporter shot by Russian sniper ...   \n",
       "\n",
       "                                               Top21  \\\n",
       "0  b'Why the Pentagon Thinks Attacking Iran is a ...   \n",
       "1  b'Israeli Physicians Group Condemns State Tort...   \n",
       "2          b'War in Georgia: The Israeli connection'   \n",
       "3                     b'Gorbachev: We Had No Choice'   \n",
       "4  b'Saudi Arabia: Mother moves to block child ma...   \n",
       "\n",
       "                                               Top22  \\\n",
       "0  b'Caucasus in crisis: Georgia invades South Os...   \n",
       "1  b' Russia has just beaten the United States ov...   \n",
       "2  b'All signs point to the US encouraging Georgi...   \n",
       "3  b'Witness: Russian forces head towards Tbilisi...   \n",
       "4   b'Taliban wages war on humanitarian aid workers'   \n",
       "\n",
       "                                               Top23  \\\n",
       "0  b'Indian shoe manufactory  - And again in a se...   \n",
       "1  b'Perhaps *the* question about the Georgia - R...   \n",
       "2  b'Christopher King argues that the US and NATO...   \n",
       "3  b' Quarter of Russians blame U.S. for conflict...   \n",
       "4  b'Russia: World  \"can forget about\" Georgia\\'s...   \n",
       "\n",
       "                                               Top24  \\\n",
       "0  b'Visitors Suffering from Mental Illnesses Ban...   \n",
       "1                 b'Russia is so much better at war'   \n",
       "2                        b'America: The New Mexico?'   \n",
       "3  b'Georgian president  says US military will ta...   \n",
       "4  b'Darfur rebels accuse Sudan of mounting major...   \n",
       "\n",
       "                                               Top25  \n",
       "0           b\"No Help for Mexico's Kidnapping Surge\"  \n",
       "1  b\"So this is what it's come to: trading sex fo...  \n",
       "2  b\"BBC NEWS | Asia-Pacific | Extinction 'by man...  \n",
       "3  b'2006: Nobel laureate Aleksander Solzhenitsyn...  \n",
       "4  b'Philippines : Peace Advocate say Muslims nee...  \n",
       "\n",
       "[5 rows x 27 columns]"
      ]
     },
     "execution_count": 7,
     "metadata": {},
     "output_type": "execute_result"
    }
   ],
   "source": [
    "news.head()"
   ]
  },
  {
   "cell_type": "code",
   "execution_count": 8,
   "id": "a02b2ed1",
   "metadata": {
    "execution": {
     "iopub.execute_input": "2024-03-02T15:53:11.751200Z",
     "iopub.status.busy": "2024-03-02T15:53:11.750824Z",
     "iopub.status.idle": "2024-03-02T15:53:11.766335Z",
     "shell.execute_reply": "2024-03-02T15:53:11.765265Z"
    },
    "papermill": {
     "duration": 0.041807,
     "end_time": "2024-03-02T15:53:11.769559",
     "exception": false,
     "start_time": "2024-03-02T15:53:11.727752",
     "status": "completed"
    },
    "tags": []
   },
   "outputs": [
    {
     "data": {
      "text/html": [
       "<div>\n",
       "<style scoped>\n",
       "    .dataframe tbody tr th:only-of-type {\n",
       "        vertical-align: middle;\n",
       "    }\n",
       "\n",
       "    .dataframe tbody tr th {\n",
       "        vertical-align: top;\n",
       "    }\n",
       "\n",
       "    .dataframe thead th {\n",
       "        text-align: right;\n",
       "    }\n",
       "</style>\n",
       "<table border=\"1\" class=\"dataframe\">\n",
       "  <thead>\n",
       "    <tr style=\"text-align: right;\">\n",
       "      <th></th>\n",
       "      <th>Date</th>\n",
       "      <th>Open</th>\n",
       "      <th>High</th>\n",
       "      <th>Low</th>\n",
       "      <th>Close</th>\n",
       "      <th>Volume</th>\n",
       "      <th>Adj Close</th>\n",
       "    </tr>\n",
       "  </thead>\n",
       "  <tbody>\n",
       "    <tr>\n",
       "      <th>0</th>\n",
       "      <td>2015-12-31</td>\n",
       "      <td>17590.66016</td>\n",
       "      <td>17590.66016</td>\n",
       "      <td>17421.16016</td>\n",
       "      <td>17425.02930</td>\n",
       "      <td>93690000</td>\n",
       "      <td>17425.02930</td>\n",
       "    </tr>\n",
       "    <tr>\n",
       "      <th>1</th>\n",
       "      <td>2015-12-30</td>\n",
       "      <td>17711.93945</td>\n",
       "      <td>17714.13086</td>\n",
       "      <td>17588.86914</td>\n",
       "      <td>17603.86914</td>\n",
       "      <td>59760000</td>\n",
       "      <td>17603.86914</td>\n",
       "    </tr>\n",
       "    <tr>\n",
       "      <th>2</th>\n",
       "      <td>2015-12-29</td>\n",
       "      <td>17547.36914</td>\n",
       "      <td>17750.01953</td>\n",
       "      <td>17547.36914</td>\n",
       "      <td>17720.98047</td>\n",
       "      <td>69860000</td>\n",
       "      <td>17720.98047</td>\n",
       "    </tr>\n",
       "    <tr>\n",
       "      <th>3</th>\n",
       "      <td>2015-12-28</td>\n",
       "      <td>17535.66016</td>\n",
       "      <td>17536.90039</td>\n",
       "      <td>17437.33984</td>\n",
       "      <td>17528.26953</td>\n",
       "      <td>59770000</td>\n",
       "      <td>17528.26953</td>\n",
       "    </tr>\n",
       "    <tr>\n",
       "      <th>4</th>\n",
       "      <td>2015-12-24</td>\n",
       "      <td>17593.25977</td>\n",
       "      <td>17606.33984</td>\n",
       "      <td>17543.94922</td>\n",
       "      <td>17552.16992</td>\n",
       "      <td>40350000</td>\n",
       "      <td>17552.16992</td>\n",
       "    </tr>\n",
       "  </tbody>\n",
       "</table>\n",
       "</div>"
      ],
      "text/plain": [
       "        Date         Open         High          Low        Close    Volume  \\\n",
       "0 2015-12-31  17590.66016  17590.66016  17421.16016  17425.02930  93690000   \n",
       "1 2015-12-30  17711.93945  17714.13086  17588.86914  17603.86914  59760000   \n",
       "2 2015-12-29  17547.36914  17750.01953  17547.36914  17720.98047  69860000   \n",
       "3 2015-12-28  17535.66016  17536.90039  17437.33984  17528.26953  59770000   \n",
       "4 2015-12-24  17593.25977  17606.33984  17543.94922  17552.16992  40350000   \n",
       "\n",
       "     Adj Close  \n",
       "0  17425.02930  \n",
       "1  17603.86914  \n",
       "2  17720.98047  \n",
       "3  17528.26953  \n",
       "4  17552.16992  "
      ]
     },
     "execution_count": 8,
     "metadata": {},
     "output_type": "execute_result"
    }
   ],
   "source": [
    "df.head()"
   ]
  },
  {
   "cell_type": "code",
   "execution_count": 9,
   "id": "3dbca4f7",
   "metadata": {
    "execution": {
     "iopub.execute_input": "2024-03-02T15:53:11.821727Z",
     "iopub.status.busy": "2024-03-02T15:53:11.820514Z",
     "iopub.status.idle": "2024-03-02T15:53:11.848254Z",
     "shell.execute_reply": "2024-03-02T15:53:11.847029Z"
    },
    "papermill": {
     "duration": 0.055601,
     "end_time": "2024-03-02T15:53:11.851491",
     "exception": false,
     "start_time": "2024-03-02T15:53:11.795890",
     "status": "completed"
    },
    "tags": []
   },
   "outputs": [
    {
     "data": {
      "text/html": [
       "<div>\n",
       "<style scoped>\n",
       "    .dataframe tbody tr th:only-of-type {\n",
       "        vertical-align: middle;\n",
       "    }\n",
       "\n",
       "    .dataframe tbody tr th {\n",
       "        vertical-align: top;\n",
       "    }\n",
       "\n",
       "    .dataframe thead th {\n",
       "        text-align: right;\n",
       "    }\n",
       "</style>\n",
       "<table border=\"1\" class=\"dataframe\">\n",
       "  <thead>\n",
       "    <tr style=\"text-align: right;\">\n",
       "      <th></th>\n",
       "      <th>Date</th>\n",
       "      <th>Label</th>\n",
       "      <th>Top1</th>\n",
       "      <th>Top2</th>\n",
       "      <th>Top3</th>\n",
       "      <th>Top4</th>\n",
       "      <th>Top5</th>\n",
       "      <th>Top6</th>\n",
       "      <th>Top7</th>\n",
       "      <th>Top8</th>\n",
       "      <th>...</th>\n",
       "      <th>Top16</th>\n",
       "      <th>Top17</th>\n",
       "      <th>Top18</th>\n",
       "      <th>Top19</th>\n",
       "      <th>Top20</th>\n",
       "      <th>Top21</th>\n",
       "      <th>Top22</th>\n",
       "      <th>Top23</th>\n",
       "      <th>Top24</th>\n",
       "      <th>Top25</th>\n",
       "    </tr>\n",
       "  </thead>\n",
       "  <tbody>\n",
       "    <tr>\n",
       "      <th>1858</th>\n",
       "      <td>2015-12-24</td>\n",
       "      <td>0</td>\n",
       "      <td>Brazil declares emergency after 2,400 babies a...</td>\n",
       "      <td>Scientists find big 1500-yr-old Viking settlem...</td>\n",
       "      <td>Paris attacks: Belgian police arrest ninth sus...</td>\n",
       "      <td>Wiretapping reveals communication between Turk...</td>\n",
       "      <td>Russia airstrikes: Hundreds of Syrian civilans...</td>\n",
       "      <td>Pakistan changes neutral position on Syrian Ci...</td>\n",
       "      <td>North Korean diplomat arrested in South Africa...</td>\n",
       "      <td>German teachers want 'Mein Kampf' on syllabus</td>\n",
       "      <td>...</td>\n",
       "      <td>Report on sexual exploitation and abuse by pea...</td>\n",
       "      <td>Baby girl dies after X-president's son's staff...</td>\n",
       "      <td>China smog sparks red alerts in 10 cities</td>\n",
       "      <td>US planned East Berlin's 'systematic destructi...</td>\n",
       "      <td>Qatar World Cup 2022 workers 'earning as littl...</td>\n",
       "      <td>Thai Court Sentences Two to Death for Killings...</td>\n",
       "      <td>Germany Pays to Halt Danish Wind Power to Prot...</td>\n",
       "      <td>Egypts President Sisi Urges Islamic Scholars t...</td>\n",
       "      <td>Russia Rejects Amnesty Internationals Report o...</td>\n",
       "      <td>Cameron, Osborne and Murdoch back together at ...</td>\n",
       "    </tr>\n",
       "    <tr>\n",
       "      <th>1859</th>\n",
       "      <td>2015-12-28</td>\n",
       "      <td>0</td>\n",
       "      <td>Germany recruits 8,500 teachers to teach Germa...</td>\n",
       "      <td>Almost 23,000 people have signed an Italian po...</td>\n",
       "      <td>Japan apologizes to Korea over sexual enslavem...</td>\n",
       "      <td>Milan and Rome ban cars as pollution rises. Mi...</td>\n",
       "      <td>Saudi posts record $98 bn deficit in 2015</td>\n",
       "      <td>The United States, Russia, Iran, and Saudi Ara...</td>\n",
       "      <td>Vladimir Putin has achieved his central goal o...</td>\n",
       "      <td>Noted Syrian journalist who uncovered ISIS Ale...</td>\n",
       "      <td>...</td>\n",
       "      <td>Saudi Arabia Plans Subsidy Cuts as King Unveil...</td>\n",
       "      <td>Syria anti-ISIS documentary maker 'assassinate...</td>\n",
       "      <td>Denmark wants Geneva Convention debate if Euro...</td>\n",
       "      <td>David Cameron is heckled during visit to flood...</td>\n",
       "      <td>British Army Is Deployed as Flooding Submerges...</td>\n",
       "      <td>Brazils reluctance to accept an Israeli ambass...</td>\n",
       "      <td>Russian GDP down 4.0 percent year-on-year in N...</td>\n",
       "      <td>Syria and Iraq: Ethnic cleansing by Sunni and ...</td>\n",
       "      <td>Deadly car bomb explodes at Kabul airport</td>\n",
       "      <td>Experiment in Germany tests the idea of an 'em...</td>\n",
       "    </tr>\n",
       "    <tr>\n",
       "      <th>1860</th>\n",
       "      <td>2015-12-29</td>\n",
       "      <td>1</td>\n",
       "      <td>Pentagon thwarts Obama's effort to close Guant...</td>\n",
       "      <td>Rare Footage of Giant Squid in Japan</td>\n",
       "      <td>Muslims tell ISIS they'd rather see Star Wars ...</td>\n",
       "      <td>Syrian Journalist Who Documented ISIS Atrociti...</td>\n",
       "      <td>North Korea's second most-powerful man sent to...</td>\n",
       "      <td>Austria Turns Away Hundreds of Migrants for Ly...</td>\n",
       "      <td>Saudi Grand Mufti calls ISIS part of the Israe...</td>\n",
       "      <td>'What has war yielded, neither land nor heaven...</td>\n",
       "      <td>...</td>\n",
       "      <td>Iran Hands Over Stockpile of Enriched Uranium ...</td>\n",
       "      <td>Registrar Shuts Down All Pirate Bay Domain Names</td>\n",
       "      <td>The Irish Government has taken unprecedented a...</td>\n",
       "      <td>Saudi Arabia to raise domestic petrol prices b...</td>\n",
       "      <td>Saudi Arabia hikes petrol prices by 40% at the...</td>\n",
       "      <td>World Health Organization declares Guinea Ebol...</td>\n",
       "      <td>Hacker group Anonymous is helping the 'Making ...</td>\n",
       "      <td>Russia 'has removed uranium from Iran'</td>\n",
       "      <td>China threatens to shoot down Australian aircr...</td>\n",
       "      <td>Israel warns Brazil to accept its settler amba...</td>\n",
       "    </tr>\n",
       "    <tr>\n",
       "      <th>1861</th>\n",
       "      <td>2015-12-30</td>\n",
       "      <td>0</td>\n",
       "      <td>Tech companies face criminal charges if they n...</td>\n",
       "      <td>Mexican marijuana farmers see profits tumble a...</td>\n",
       "      <td>A would-be suicide bomber and his wife have be...</td>\n",
       "      <td>The rich will get richer while two million mor...</td>\n",
       "      <td>The North Pole will have above freezing temper...</td>\n",
       "      <td>South Australia - New sexting laws to spare ch...</td>\n",
       "      <td>ISIS militants burn 20 media activists to deat...</td>\n",
       "      <td>Italy fines Apple over misleading tax conduct</td>\n",
       "      <td>...</td>\n",
       "      <td>Norway to turn back asylum seekers on Swedish ...</td>\n",
       "      <td>Islamic State Suffers Double Blow As Ramadi Fa...</td>\n",
       "      <td>Journalist reveals Erdoan imprisoned him for e...</td>\n",
       "      <td>Russian Moon base plan falls victim to budget ...</td>\n",
       "      <td>Belgium, Netherlands to exchange territory  wi...</td>\n",
       "      <td>North Korea says top official Kim Yang-gon kil...</td>\n",
       "      <td>Putin's Son-in-Law Boosted by $1.75 Bln Russia...</td>\n",
       "      <td>An orgasm a day could cut prostate cancer risk</td>\n",
       "      <td>Germans claim Belgian nuclear reactors are \"fa...</td>\n",
       "      <td>UK Sperm Bank Doesn't Accept Donors with Dysle...</td>\n",
       "    </tr>\n",
       "    <tr>\n",
       "      <th>1862</th>\n",
       "      <td>2015-12-31</td>\n",
       "      <td>0</td>\n",
       "      <td>Microsoft Corp said on Wednesday it will begin...</td>\n",
       "      <td>Greek Orthodox Church: Homosexuals are God's c...</td>\n",
       "      <td>Vladmir Putin officially dissolves Roscosmos, ...</td>\n",
       "      <td>Donald Trump could be refused entry to the UK ...</td>\n",
       "      <td>Saudi Arabia says its ready to meet any additi...</td>\n",
       "      <td>New Year fireworks and festivities have been c...</td>\n",
       "      <td>New species of human may have shared our caves...</td>\n",
       "      <td>Egypt becomes second nation to shut down Faceb...</td>\n",
       "      <td>...</td>\n",
       "      <td>Ramadi residents fleeing ISIS: 'They wanted to...</td>\n",
       "      <td>Israeli Gov't approves NIS 15-billion plan to ...</td>\n",
       "      <td>Russia denies 'absurd' claims that air strikes...</td>\n",
       "      <td>Web attack knocks BBC websites offline</td>\n",
       "      <td>Iran says any U.S. sanctions on missiles illegal</td>\n",
       "      <td>Maternity Benefits: Indian Government plans to...</td>\n",
       "      <td>'Rat on a plane' forces Air India flight to tu...</td>\n",
       "      <td>Philippines to join China-backed AIIB infrastr...</td>\n",
       "      <td>ESPN invites five FIFA presidential candidates...</td>\n",
       "      <td>Hamas to keep Palestinians from ringing in New...</td>\n",
       "    </tr>\n",
       "  </tbody>\n",
       "</table>\n",
       "<p>5 rows × 27 columns</p>\n",
       "</div>"
      ],
      "text/plain": [
       "           Date  Label                                               Top1  \\\n",
       "1858 2015-12-24      0  Brazil declares emergency after 2,400 babies a...   \n",
       "1859 2015-12-28      0  Germany recruits 8,500 teachers to teach Germa...   \n",
       "1860 2015-12-29      1  Pentagon thwarts Obama's effort to close Guant...   \n",
       "1861 2015-12-30      0  Tech companies face criminal charges if they n...   \n",
       "1862 2015-12-31      0  Microsoft Corp said on Wednesday it will begin...   \n",
       "\n",
       "                                                   Top2  \\\n",
       "1858  Scientists find big 1500-yr-old Viking settlem...   \n",
       "1859  Almost 23,000 people have signed an Italian po...   \n",
       "1860               Rare Footage of Giant Squid in Japan   \n",
       "1861  Mexican marijuana farmers see profits tumble a...   \n",
       "1862  Greek Orthodox Church: Homosexuals are God's c...   \n",
       "\n",
       "                                                   Top3  \\\n",
       "1858  Paris attacks: Belgian police arrest ninth sus...   \n",
       "1859  Japan apologizes to Korea over sexual enslavem...   \n",
       "1860  Muslims tell ISIS they'd rather see Star Wars ...   \n",
       "1861  A would-be suicide bomber and his wife have be...   \n",
       "1862  Vladmir Putin officially dissolves Roscosmos, ...   \n",
       "\n",
       "                                                   Top4  \\\n",
       "1858  Wiretapping reveals communication between Turk...   \n",
       "1859  Milan and Rome ban cars as pollution rises. Mi...   \n",
       "1860  Syrian Journalist Who Documented ISIS Atrociti...   \n",
       "1861  The rich will get richer while two million mor...   \n",
       "1862  Donald Trump could be refused entry to the UK ...   \n",
       "\n",
       "                                                   Top5  \\\n",
       "1858  Russia airstrikes: Hundreds of Syrian civilans...   \n",
       "1859          Saudi posts record $98 bn deficit in 2015   \n",
       "1860  North Korea's second most-powerful man sent to...   \n",
       "1861  The North Pole will have above freezing temper...   \n",
       "1862  Saudi Arabia says its ready to meet any additi...   \n",
       "\n",
       "                                                   Top6  \\\n",
       "1858  Pakistan changes neutral position on Syrian Ci...   \n",
       "1859  The United States, Russia, Iran, and Saudi Ara...   \n",
       "1860  Austria Turns Away Hundreds of Migrants for Ly...   \n",
       "1861  South Australia - New sexting laws to spare ch...   \n",
       "1862  New Year fireworks and festivities have been c...   \n",
       "\n",
       "                                                   Top7  \\\n",
       "1858  North Korean diplomat arrested in South Africa...   \n",
       "1859  Vladimir Putin has achieved his central goal o...   \n",
       "1860  Saudi Grand Mufti calls ISIS part of the Israe...   \n",
       "1861  ISIS militants burn 20 media activists to deat...   \n",
       "1862  New species of human may have shared our caves...   \n",
       "\n",
       "                                                   Top8  ...  \\\n",
       "1858      German teachers want 'Mein Kampf' on syllabus  ...   \n",
       "1859  Noted Syrian journalist who uncovered ISIS Ale...  ...   \n",
       "1860  'What has war yielded, neither land nor heaven...  ...   \n",
       "1861      Italy fines Apple over misleading tax conduct  ...   \n",
       "1862  Egypt becomes second nation to shut down Faceb...  ...   \n",
       "\n",
       "                                                  Top16  \\\n",
       "1858  Report on sexual exploitation and abuse by pea...   \n",
       "1859  Saudi Arabia Plans Subsidy Cuts as King Unveil...   \n",
       "1860  Iran Hands Over Stockpile of Enriched Uranium ...   \n",
       "1861  Norway to turn back asylum seekers on Swedish ...   \n",
       "1862  Ramadi residents fleeing ISIS: 'They wanted to...   \n",
       "\n",
       "                                                  Top17  \\\n",
       "1858  Baby girl dies after X-president's son's staff...   \n",
       "1859  Syria anti-ISIS documentary maker 'assassinate...   \n",
       "1860   Registrar Shuts Down All Pirate Bay Domain Names   \n",
       "1861  Islamic State Suffers Double Blow As Ramadi Fa...   \n",
       "1862  Israeli Gov't approves NIS 15-billion plan to ...   \n",
       "\n",
       "                                                  Top18  \\\n",
       "1858          China smog sparks red alerts in 10 cities   \n",
       "1859  Denmark wants Geneva Convention debate if Euro...   \n",
       "1860  The Irish Government has taken unprecedented a...   \n",
       "1861  Journalist reveals Erdoan imprisoned him for e...   \n",
       "1862  Russia denies 'absurd' claims that air strikes...   \n",
       "\n",
       "                                                  Top19  \\\n",
       "1858  US planned East Berlin's 'systematic destructi...   \n",
       "1859  David Cameron is heckled during visit to flood...   \n",
       "1860  Saudi Arabia to raise domestic petrol prices b...   \n",
       "1861  Russian Moon base plan falls victim to budget ...   \n",
       "1862             Web attack knocks BBC websites offline   \n",
       "\n",
       "                                                  Top20  \\\n",
       "1858  Qatar World Cup 2022 workers 'earning as littl...   \n",
       "1859  British Army Is Deployed as Flooding Submerges...   \n",
       "1860  Saudi Arabia hikes petrol prices by 40% at the...   \n",
       "1861  Belgium, Netherlands to exchange territory  wi...   \n",
       "1862   Iran says any U.S. sanctions on missiles illegal   \n",
       "\n",
       "                                                  Top21  \\\n",
       "1858  Thai Court Sentences Two to Death for Killings...   \n",
       "1859  Brazils reluctance to accept an Israeli ambass...   \n",
       "1860  World Health Organization declares Guinea Ebol...   \n",
       "1861  North Korea says top official Kim Yang-gon kil...   \n",
       "1862  Maternity Benefits: Indian Government plans to...   \n",
       "\n",
       "                                                  Top22  \\\n",
       "1858  Germany Pays to Halt Danish Wind Power to Prot...   \n",
       "1859  Russian GDP down 4.0 percent year-on-year in N...   \n",
       "1860  Hacker group Anonymous is helping the 'Making ...   \n",
       "1861  Putin's Son-in-Law Boosted by $1.75 Bln Russia...   \n",
       "1862  'Rat on a plane' forces Air India flight to tu...   \n",
       "\n",
       "                                                  Top23  \\\n",
       "1858  Egypts President Sisi Urges Islamic Scholars t...   \n",
       "1859  Syria and Iraq: Ethnic cleansing by Sunni and ...   \n",
       "1860             Russia 'has removed uranium from Iran'   \n",
       "1861     An orgasm a day could cut prostate cancer risk   \n",
       "1862  Philippines to join China-backed AIIB infrastr...   \n",
       "\n",
       "                                                  Top24  \\\n",
       "1858  Russia Rejects Amnesty Internationals Report o...   \n",
       "1859          Deadly car bomb explodes at Kabul airport   \n",
       "1860  China threatens to shoot down Australian aircr...   \n",
       "1861  Germans claim Belgian nuclear reactors are \"fa...   \n",
       "1862  ESPN invites five FIFA presidential candidates...   \n",
       "\n",
       "                                                  Top25  \n",
       "1858  Cameron, Osborne and Murdoch back together at ...  \n",
       "1859  Experiment in Germany tests the idea of an 'em...  \n",
       "1860  Israel warns Brazil to accept its settler amba...  \n",
       "1861  UK Sperm Bank Doesn't Accept Donors with Dysle...  \n",
       "1862  Hamas to keep Palestinians from ringing in New...  \n",
       "\n",
       "[5 rows x 27 columns]"
      ]
     },
     "execution_count": 9,
     "metadata": {},
     "output_type": "execute_result"
    }
   ],
   "source": [
    "news.tail()"
   ]
  },
  {
   "cell_type": "code",
   "execution_count": 10,
   "id": "a545e819",
   "metadata": {
    "execution": {
     "iopub.execute_input": "2024-03-02T15:53:11.907463Z",
     "iopub.status.busy": "2024-03-02T15:53:11.906929Z",
     "iopub.status.idle": "2024-03-02T15:53:11.913461Z",
     "shell.execute_reply": "2024-03-02T15:53:11.912177Z"
    },
    "papermill": {
     "duration": 0.033674,
     "end_time": "2024-03-02T15:53:11.916475",
     "exception": false,
     "start_time": "2024-03-02T15:53:11.882801",
     "status": "completed"
    },
    "tags": []
   },
   "outputs": [],
   "source": [
    "ps = PorterStemmer()\n",
    "wordnet = WordNetLemmatizer()"
   ]
  },
  {
   "cell_type": "code",
   "execution_count": 11,
   "id": "620209e8",
   "metadata": {
    "execution": {
     "iopub.execute_input": "2024-03-02T15:53:11.965569Z",
     "iopub.status.busy": "2024-03-02T15:53:11.965138Z",
     "iopub.status.idle": "2024-03-02T15:53:12.523598Z",
     "shell.execute_reply": "2024-03-02T15:53:12.522461Z"
    },
    "papermill": {
     "duration": 0.584882,
     "end_time": "2024-03-02T15:53:12.526482",
     "exception": false,
     "start_time": "2024-03-02T15:53:11.941600",
     "status": "completed"
    },
    "tags": []
   },
   "outputs": [
    {
     "data": {
      "text/html": [
       "<div>\n",
       "<style scoped>\n",
       "    .dataframe tbody tr th:only-of-type {\n",
       "        vertical-align: middle;\n",
       "    }\n",
       "\n",
       "    .dataframe tbody tr th {\n",
       "        vertical-align: top;\n",
       "    }\n",
       "\n",
       "    .dataframe thead th {\n",
       "        text-align: right;\n",
       "    }\n",
       "</style>\n",
       "<table border=\"1\" class=\"dataframe\">\n",
       "  <thead>\n",
       "    <tr style=\"text-align: right;\">\n",
       "      <th></th>\n",
       "      <th>0</th>\n",
       "      <th>1</th>\n",
       "      <th>2</th>\n",
       "      <th>3</th>\n",
       "      <th>4</th>\n",
       "      <th>5</th>\n",
       "      <th>6</th>\n",
       "      <th>7</th>\n",
       "      <th>8</th>\n",
       "      <th>9</th>\n",
       "      <th>...</th>\n",
       "      <th>15</th>\n",
       "      <th>16</th>\n",
       "      <th>17</th>\n",
       "      <th>18</th>\n",
       "      <th>19</th>\n",
       "      <th>20</th>\n",
       "      <th>21</th>\n",
       "      <th>22</th>\n",
       "      <th>23</th>\n",
       "      <th>24</th>\n",
       "    </tr>\n",
       "  </thead>\n",
       "  <tbody>\n",
       "    <tr>\n",
       "      <th>0</th>\n",
       "      <td>b Georgia  downs two Russian warplanes  as cou...</td>\n",
       "      <td>b BREAKING  Musharraf to be impeached</td>\n",
       "      <td>b Russia Today  Columns of troops roll into So...</td>\n",
       "      <td>b Russian tanks are moving towards the capital...</td>\n",
       "      <td>b Afghan children raped with  impunity   U N  ...</td>\n",
       "      <td>b     Russian tanks have entered South Ossetia...</td>\n",
       "      <td>b Breaking  Georgia invades South Ossetia  Rus...</td>\n",
       "      <td>b The  enemy combatent  trials are nothing but...</td>\n",
       "      <td>b Georgian troops retreat from S  Osettain cap...</td>\n",
       "      <td>b Did the U S  Prep Georgia for War with Russia</td>\n",
       "      <td>...</td>\n",
       "      <td>b Georgia Invades South Ossetia   if Russia ge...</td>\n",
       "      <td>b Al Qaeda Faces Islamist Backlash</td>\n",
       "      <td>b Condoleezza Rice   The US would not act to p...</td>\n",
       "      <td>b This is a busy day   The European Union has ...</td>\n",
       "      <td>b Georgia will withdraw       soldiers from Ir...</td>\n",
       "      <td>b Why the Pentagon Thinks Attacking Iran is a ...</td>\n",
       "      <td>b Caucasus in crisis  Georgia invades South Os...</td>\n",
       "      <td>b Indian shoe manufactory    And again in a se...</td>\n",
       "      <td>b Visitors Suffering from Mental Illnesses Ban...</td>\n",
       "      <td>b No Help for Mexico s Kidnapping Surge</td>\n",
       "    </tr>\n",
       "    <tr>\n",
       "      <th>1</th>\n",
       "      <td>b Why wont America and Nato help us  If they w...</td>\n",
       "      <td>b Bush puts foot down on Georgian conflict</td>\n",
       "      <td>b Jewish Georgian minister  Thanks to Israeli ...</td>\n",
       "      <td>b Georgian army flees in disarray as Russians ...</td>\n",
       "      <td>b Olympic opening ceremony fireworks  faked</td>\n",
       "      <td>b What were the Mossad with fraudulent New Zea...</td>\n",
       "      <td>b Russia angered by Israeli military sale to G...</td>\n",
       "      <td>b An American citizen living in S Ossetia blam...</td>\n",
       "      <td>b Welcome To World War IV  Now In High Definit...</td>\n",
       "      <td>b Georgia s move  a mistake of monumental prop...</td>\n",
       "      <td>...</td>\n",
       "      <td>b Israel and the US behind the Georgian aggres...</td>\n",
       "      <td>b  Do not believe TV  neither Russian nor Geor...</td>\n",
       "      <td>b Riots are still going on in Montreal  Canada...</td>\n",
       "      <td>b China to overtake US as largest manufacturer</td>\n",
       "      <td>b War in South Ossetia  PICS</td>\n",
       "      <td>b Israeli Physicians Group Condemns State Tort...</td>\n",
       "      <td>b  Russia has just beaten the United States ov...</td>\n",
       "      <td>b Perhaps  the  question about the Georgia   R...</td>\n",
       "      <td>b Russia is so much better at war</td>\n",
       "      <td>b So this is what it s come to  trading sex fo...</td>\n",
       "    </tr>\n",
       "    <tr>\n",
       "      <th>2</th>\n",
       "      <td>b Remember that adorable   year old who sang a...</td>\n",
       "      <td>b Russia  ends Georgia operation</td>\n",
       "      <td>b  If we had no sexual harassment we would hav...</td>\n",
       "      <td>b Al Qa eda is losing support in Iraq because ...</td>\n",
       "      <td>b Ceasefire in Georgia  Putin Outmaneuvers the...</td>\n",
       "      <td>b Why Microsoft and Intel tried to kill the XO...</td>\n",
       "      <td>b Stratfor  The Russo Georgian War and the Bal...</td>\n",
       "      <td>b I m Trying to Get a Sense of This Whole Geor...</td>\n",
       "      <td>b The US military was surprised by the timing ...</td>\n",
       "      <td>b U S  Beats War Drum as Iran Dumps the Dollar</td>\n",
       "      <td>...</td>\n",
       "      <td>b U S  troops still in Georgia  did you know t...</td>\n",
       "      <td>b Why Russias response to Georgia was right</td>\n",
       "      <td>b Gorbachev accuses U S  of making a  serious ...</td>\n",
       "      <td>b Russia  Georgia  and NATO  Cold War Two</td>\n",
       "      <td>b Remember that adorable    year old who led y...</td>\n",
       "      <td>b War in Georgia  The Israeli connection</td>\n",
       "      <td>b All signs point to the US encouraging Georgi...</td>\n",
       "      <td>b Christopher King argues that the US and NATO...</td>\n",
       "      <td>b America  The New Mexico</td>\n",
       "      <td>b BBC NEWS   Asia Pacific   Extinction  by man...</td>\n",
       "    </tr>\n",
       "    <tr>\n",
       "      <th>3</th>\n",
       "      <td>b  U S  refuses Israel weapons to attack Iran ...</td>\n",
       "      <td>b When the president ordered to attack Tskhinv...</td>\n",
       "      <td>b  Israel clears troops who killed Reuters cam...</td>\n",
       "      <td>b Britain  s policy of being tough on drugs is...</td>\n",
       "      <td>b Body of    year old found in trunk  Latest  ...</td>\n",
       "      <td>b China has moved     million  quake survivors...</td>\n",
       "      <td>b Bush announces Operation Get All Up In Russi...</td>\n",
       "      <td>b Russian forces sink Georgian ships</td>\n",
       "      <td>b The commander of a Navy air reconnaissance s...</td>\n",
       "      <td>b     of CNN readers  Russia s actions in Geor...</td>\n",
       "      <td>...</td>\n",
       "      <td>b Elephants extinct by</td>\n",
       "      <td>b US humanitarian missions soon in Georgia   i...</td>\n",
       "      <td>b Georgia s DDOS came from US sources</td>\n",
       "      <td>b Russian convoy heads into Georgia  violating...</td>\n",
       "      <td>b Israeli defence minister  US against strike ...</td>\n",
       "      <td>b Gorbachev  We Had No Choice</td>\n",
       "      <td>b Witness  Russian forces head towards Tbilisi...</td>\n",
       "      <td>b  Quarter of Russians blame U S  for conflict...</td>\n",
       "      <td>b Georgian president  says US military will ta...</td>\n",
       "      <td>b       Nobel laureate Aleksander Solzhenitsyn...</td>\n",
       "    </tr>\n",
       "    <tr>\n",
       "      <th>4</th>\n",
       "      <td>b All the experts admit that we should legalis...</td>\n",
       "      <td>b War in South Osetia      pictures made by a ...</td>\n",
       "      <td>b Swedish wrestler Ara Abrahamian throws away ...</td>\n",
       "      <td>b Russia exaggerated the death toll in South O...</td>\n",
       "      <td>b Missile That Killed   Inside Pakistan May Ha...</td>\n",
       "      <td>b Rushdie Condemns Random House s Refusal to P...</td>\n",
       "      <td>b Poland and US agree to missle defense deal  ...</td>\n",
       "      <td>b Will the Russians conquer Tblisi  Bet on it ...</td>\n",
       "      <td>b Russia exaggerating South Ossetian death tol...</td>\n",
       "      <td>b  Musharraf expected to resign rather than fa...</td>\n",
       "      <td>...</td>\n",
       "      <td>b Bank analyst forecast Georgian crisis   days...</td>\n",
       "      <td>b Georgia confict could set back Russia s US r...</td>\n",
       "      <td>b War in the Caucasus is as much the product o...</td>\n",
       "      <td>b  Non media  photos of South Ossetia Georgia ...</td>\n",
       "      <td>b Georgian TV reporter shot by Russian sniper ...</td>\n",
       "      <td>b Saudi Arabia  Mother moves to block child ma...</td>\n",
       "      <td>b Taliban wages war on humanitarian aid workers</td>\n",
       "      <td>b Russia  World   can forget about  Georgia  s...</td>\n",
       "      <td>b Darfur rebels accuse Sudan of mounting major...</td>\n",
       "      <td>b Philippines   Peace Advocate say Muslims nee...</td>\n",
       "    </tr>\n",
       "  </tbody>\n",
       "</table>\n",
       "<p>5 rows × 25 columns</p>\n",
       "</div>"
      ],
      "text/plain": [
       "                                                   0  \\\n",
       "0  b Georgia  downs two Russian warplanes  as cou...   \n",
       "1  b Why wont America and Nato help us  If they w...   \n",
       "2  b Remember that adorable   year old who sang a...   \n",
       "3  b  U S  refuses Israel weapons to attack Iran ...   \n",
       "4  b All the experts admit that we should legalis...   \n",
       "\n",
       "                                                   1  \\\n",
       "0            b BREAKING  Musharraf to be impeached     \n",
       "1        b Bush puts foot down on Georgian conflict    \n",
       "2                 b Russia  ends Georgia operation     \n",
       "3  b When the president ordered to attack Tskhinv...   \n",
       "4  b War in South Osetia      pictures made by a ...   \n",
       "\n",
       "                                                   2  \\\n",
       "0  b Russia Today  Columns of troops roll into So...   \n",
       "1  b Jewish Georgian minister  Thanks to Israeli ...   \n",
       "2  b  If we had no sexual harassment we would hav...   \n",
       "3  b  Israel clears troops who killed Reuters cam...   \n",
       "4  b Swedish wrestler Ara Abrahamian throws away ...   \n",
       "\n",
       "                                                   3  \\\n",
       "0  b Russian tanks are moving towards the capital...   \n",
       "1  b Georgian army flees in disarray as Russians ...   \n",
       "2  b Al Qa eda is losing support in Iraq because ...   \n",
       "3  b Britain  s policy of being tough on drugs is...   \n",
       "4  b Russia exaggerated the death toll in South O...   \n",
       "\n",
       "                                                   4  \\\n",
       "0  b Afghan children raped with  impunity   U N  ...   \n",
       "1      b Olympic opening ceremony fireworks  faked     \n",
       "2  b Ceasefire in Georgia  Putin Outmaneuvers the...   \n",
       "3  b Body of    year old found in trunk  Latest  ...   \n",
       "4  b Missile That Killed   Inside Pakistan May Ha...   \n",
       "\n",
       "                                                   5  \\\n",
       "0  b     Russian tanks have entered South Ossetia...   \n",
       "1  b What were the Mossad with fraudulent New Zea...   \n",
       "2  b Why Microsoft and Intel tried to kill the XO...   \n",
       "3  b China has moved     million  quake survivors...   \n",
       "4  b Rushdie Condemns Random House s Refusal to P...   \n",
       "\n",
       "                                                   6  \\\n",
       "0  b Breaking  Georgia invades South Ossetia  Rus...   \n",
       "1  b Russia angered by Israeli military sale to G...   \n",
       "2  b Stratfor  The Russo Georgian War and the Bal...   \n",
       "3  b Bush announces Operation Get All Up In Russi...   \n",
       "4  b Poland and US agree to missle defense deal  ...   \n",
       "\n",
       "                                                   7  \\\n",
       "0  b The  enemy combatent  trials are nothing but...   \n",
       "1  b An American citizen living in S Ossetia blam...   \n",
       "2  b I m Trying to Get a Sense of This Whole Geor...   \n",
       "3             b Russian forces sink Georgian ships     \n",
       "4  b Will the Russians conquer Tblisi  Bet on it ...   \n",
       "\n",
       "                                                   8  \\\n",
       "0  b Georgian troops retreat from S  Osettain cap...   \n",
       "1  b Welcome To World War IV  Now In High Definit...   \n",
       "2  b The US military was surprised by the timing ...   \n",
       "3  b The commander of a Navy air reconnaissance s...   \n",
       "4  b Russia exaggerating South Ossetian death tol...   \n",
       "\n",
       "                                                   9  ...  \\\n",
       "0  b Did the U S  Prep Georgia for War with Russia    ...   \n",
       "1  b Georgia s move  a mistake of monumental prop...  ...   \n",
       "2    b U S  Beats War Drum as Iran Dumps the Dollar   ...   \n",
       "3  b     of CNN readers  Russia s actions in Geor...  ...   \n",
       "4  b  Musharraf expected to resign rather than fa...  ...   \n",
       "\n",
       "                                                  15  \\\n",
       "0  b Georgia Invades South Ossetia   if Russia ge...   \n",
       "1  b Israel and the US behind the Georgian aggres...   \n",
       "2  b U S  troops still in Georgia  did you know t...   \n",
       "3                      b Elephants extinct by          \n",
       "4  b Bank analyst forecast Georgian crisis   days...   \n",
       "\n",
       "                                                  16  \\\n",
       "0                b Al Qaeda Faces Islamist Backlash    \n",
       "1  b  Do not believe TV  neither Russian nor Geor...   \n",
       "2       b Why Russias response to Georgia was right    \n",
       "3  b US humanitarian missions soon in Georgia   i...   \n",
       "4  b Georgia confict could set back Russia s US r...   \n",
       "\n",
       "                                                  17  \\\n",
       "0  b Condoleezza Rice   The US would not act to p...   \n",
       "1  b Riots are still going on in Montreal  Canada...   \n",
       "2  b Gorbachev accuses U S  of making a  serious ...   \n",
       "3             b Georgia s DDOS came from US sources    \n",
       "4  b War in the Caucasus is as much the product o...   \n",
       "\n",
       "                                                  18  \\\n",
       "0  b This is a busy day   The European Union has ...   \n",
       "1    b China to overtake US as largest manufacturer    \n",
       "2         b Russia  Georgia  and NATO  Cold War Two    \n",
       "3  b Russian convoy heads into Georgia  violating...   \n",
       "4  b  Non media  photos of South Ossetia Georgia ...   \n",
       "\n",
       "                                                  19  \\\n",
       "0  b Georgia will withdraw       soldiers from Ir...   \n",
       "1                     b War in South Ossetia  PICS     \n",
       "2  b Remember that adorable    year old who led y...   \n",
       "3  b Israeli defence minister  US against strike ...   \n",
       "4  b Georgian TV reporter shot by Russian sniper ...   \n",
       "\n",
       "                                                  20  \\\n",
       "0  b Why the Pentagon Thinks Attacking Iran is a ...   \n",
       "1  b Israeli Physicians Group Condemns State Tort...   \n",
       "2          b War in Georgia  The Israeli connection    \n",
       "3                     b Gorbachev  We Had No Choice    \n",
       "4  b Saudi Arabia  Mother moves to block child ma...   \n",
       "\n",
       "                                                  21  \\\n",
       "0  b Caucasus in crisis  Georgia invades South Os...   \n",
       "1  b  Russia has just beaten the United States ov...   \n",
       "2  b All signs point to the US encouraging Georgi...   \n",
       "3  b Witness  Russian forces head towards Tbilisi...   \n",
       "4   b Taliban wages war on humanitarian aid workers    \n",
       "\n",
       "                                                  22  \\\n",
       "0  b Indian shoe manufactory    And again in a se...   \n",
       "1  b Perhaps  the  question about the Georgia   R...   \n",
       "2  b Christopher King argues that the US and NATO...   \n",
       "3  b  Quarter of Russians blame U S  for conflict...   \n",
       "4  b Russia  World   can forget about  Georgia  s...   \n",
       "\n",
       "                                                  23  \\\n",
       "0  b Visitors Suffering from Mental Illnesses Ban...   \n",
       "1                 b Russia is so much better at war    \n",
       "2                        b America  The New Mexico     \n",
       "3  b Georgian president  says US military will ta...   \n",
       "4  b Darfur rebels accuse Sudan of mounting major...   \n",
       "\n",
       "                                                  24  \n",
       "0           b No Help for Mexico s Kidnapping Surge   \n",
       "1  b So this is what it s come to  trading sex fo...  \n",
       "2  b BBC NEWS   Asia Pacific   Extinction  by man...  \n",
       "3  b       Nobel laureate Aleksander Solzhenitsyn...  \n",
       "4  b Philippines   Peace Advocate say Muslims nee...  \n",
       "\n",
       "[5 rows x 25 columns]"
      ]
     },
     "execution_count": 11,
     "metadata": {},
     "output_type": "execute_result"
    }
   ],
   "source": [
    "data = news.iloc[:, 2:27]\n",
    "data.replace(\"[^a-zA-Z]\",\" \",regex=True, inplace=True)\n",
    "\n",
    "# Renaming column names for ease of access\n",
    "list1= [i for i in range(25)]\n",
    "new_Index=[str(i) for i in list1]\n",
    "data.columns= new_Index\n",
    "data.head(5)"
   ]
  },
  {
   "cell_type": "code",
   "execution_count": 12,
   "id": "b9dd527a",
   "metadata": {
    "execution": {
     "iopub.execute_input": "2024-03-02T15:53:12.573395Z",
     "iopub.status.busy": "2024-03-02T15:53:12.572964Z",
     "iopub.status.idle": "2024-03-02T15:53:12.826781Z",
     "shell.execute_reply": "2024-03-02T15:53:12.825555Z"
    },
    "papermill": {
     "duration": 0.280153,
     "end_time": "2024-03-02T15:53:12.829449",
     "exception": false,
     "start_time": "2024-03-02T15:53:12.549296",
     "status": "completed"
    },
    "tags": []
   },
   "outputs": [],
   "source": [
    "analyzer = SentimentIntensityAnalyzer()\n",
    "headlines = []\n",
    "for row in range(0,len(data.index)):\n",
    "    headlines.append( ' '.join(str(x) for x in data.iloc[row,0:25]))"
   ]
  },
  {
   "cell_type": "code",
   "execution_count": 13,
   "id": "d51996da",
   "metadata": {
    "execution": {
     "iopub.execute_input": "2024-03-02T15:53:12.876774Z",
     "iopub.status.busy": "2024-03-02T15:53:12.875563Z",
     "iopub.status.idle": "2024-03-02T15:53:34.817592Z",
     "shell.execute_reply": "2024-03-02T15:53:34.816636Z"
    },
    "papermill": {
     "duration": 21.968416,
     "end_time": "2024-03-02T15:53:34.820508",
     "exception": false,
     "start_time": "2024-03-02T15:53:12.852092",
     "status": "completed"
    },
    "tags": []
   },
   "outputs": [],
   "source": [
    "stop_words = stopwords.words('english')\n",
    "stop_words_dict = Counter(stop_words)\n",
    "for i in range(data.shape[0]):\n",
    "    headlines[i] = ' '.join([ps.stem(word) for word in headlines[i].split() if not word in stop_words_dict and word != 'b'])"
   ]
  },
  {
   "cell_type": "code",
   "execution_count": 14,
   "id": "47238833",
   "metadata": {
    "execution": {
     "iopub.execute_input": "2024-03-02T15:53:34.867622Z",
     "iopub.status.busy": "2024-03-02T15:53:34.867195Z",
     "iopub.status.idle": "2024-03-02T15:53:34.872933Z",
     "shell.execute_reply": "2024-03-02T15:53:34.872151Z"
    },
    "papermill": {
     "duration": 0.031356,
     "end_time": "2024-03-02T15:53:34.874919",
     "exception": false,
     "start_time": "2024-03-02T15:53:34.843563",
     "status": "completed"
    },
    "tags": []
   },
   "outputs": [
    {
     "data": {
      "text/plain": [
       "'georgia down two russian warplan countri move brink war break musharraf impeach russia today column troop roll south ossetia footag fight youtub russian tank move toward capit south ossetia reportedli complet destroy georgian artilleri fire afghan children rape impun U N offici say sick three year old rape noth russian tank enter south ossetia whilst georgia shoot two russian jet break georgia invad south ossetia russia warn would interven SO side the enemi combat trial noth sham salim haman sentenc year kept longer anyway feel like georgian troop retreat S osettain capit presum leav sever hundr peopl kill video did U S prep georgia war russia rice give green light israel attack iran say U S veto isra militari op announc class action lawsuit behalf american public against fbi So russia georgia war nyt top stori open ceremoni olymp what fuck disgrac yet proof declin journal china tell bush stay countri affair did world war iii start today georgia invad south ossetia russia get involv nato absorb georgia unleash full scale war Al qaeda face islamist backlash condoleezza rice the US would act prevent isra strike iran isra defens minist ehud barak israel prepar uncompromis victori case militari hostil thi busi day the european union approv new sanction iran protest nuclear programm georgia withdraw soldier iraq help fight russian forc georgia breakaway region south ossetia whi pentagon think attack iran bad idea US new amp world report caucasu crisi georgia invad south ossetia indian shoe manufactori and seri like work visitor suffer mental ill ban olymp No help mexico kidnap surg'"
      ]
     },
     "execution_count": 14,
     "metadata": {},
     "output_type": "execute_result"
    }
   ],
   "source": [
    "headlines[0]"
   ]
  },
  {
   "cell_type": "code",
   "execution_count": 15,
   "id": "a01b816f",
   "metadata": {
    "execution": {
     "iopub.execute_input": "2024-03-02T15:53:34.921470Z",
     "iopub.status.busy": "2024-03-02T15:53:34.920731Z",
     "iopub.status.idle": "2024-03-02T15:53:46.567775Z",
     "shell.execute_reply": "2024-03-02T15:53:46.566759Z"
    },
    "papermill": {
     "duration": 11.673519,
     "end_time": "2024-03-02T15:53:46.570596",
     "exception": false,
     "start_time": "2024-03-02T15:53:34.897077",
     "status": "completed"
    },
    "tags": []
   },
   "outputs": [],
   "source": [
    "scores = []\n",
    "for i in range(len(headlines)):\n",
    "    a = (analyzer.polarity_scores(headlines[i]))\n",
    "    scores.append([a['neg'], a['neu'], a['pos']])"
   ]
  },
  {
   "cell_type": "code",
   "execution_count": null,
   "id": "369e8c37",
   "metadata": {
    "papermill": {
     "duration": 0.021754,
     "end_time": "2024-03-02T15:53:46.614956",
     "exception": false,
     "start_time": "2024-03-02T15:53:46.593202",
     "status": "completed"
    },
    "tags": []
   },
   "outputs": [],
   "source": []
  },
  {
   "cell_type": "code",
   "execution_count": null,
   "id": "5d9c6394",
   "metadata": {
    "papermill": {
     "duration": 0.021868,
     "end_time": "2024-03-02T15:53:46.658995",
     "exception": false,
     "start_time": "2024-03-02T15:53:46.637127",
     "status": "completed"
    },
    "tags": []
   },
   "outputs": [],
   "source": []
  },
  {
   "cell_type": "code",
   "execution_count": 16,
   "id": "157acbaf",
   "metadata": {
    "execution": {
     "iopub.execute_input": "2024-03-02T15:53:46.705117Z",
     "iopub.status.busy": "2024-03-02T15:53:46.704742Z",
     "iopub.status.idle": "2024-03-02T15:53:46.711184Z",
     "shell.execute_reply": "2024-03-02T15:53:46.710337Z"
    },
    "papermill": {
     "duration": 0.032452,
     "end_time": "2024-03-02T15:53:46.713509",
     "exception": false,
     "start_time": "2024-03-02T15:53:46.681057",
     "status": "completed"
    },
    "tags": []
   },
   "outputs": [
    {
     "data": {
      "text/plain": [
       "[[0.265, 0.688, 0.047],\n",
       " [0.247, 0.69, 0.063],\n",
       " [0.212, 0.755, 0.033],\n",
       " [0.153, 0.787, 0.06]]"
      ]
     },
     "execution_count": 16,
     "metadata": {},
     "output_type": "execute_result"
    }
   ],
   "source": [
    "scores[0:4]"
   ]
  },
  {
   "cell_type": "code",
   "execution_count": 17,
   "id": "d0c8bf54",
   "metadata": {
    "execution": {
     "iopub.execute_input": "2024-03-02T15:53:46.760213Z",
     "iopub.status.busy": "2024-03-02T15:53:46.759307Z",
     "iopub.status.idle": "2024-03-02T15:53:46.915833Z",
     "shell.execute_reply": "2024-03-02T15:53:46.914622Z"
    },
    "papermill": {
     "duration": 0.182901,
     "end_time": "2024-03-02T15:53:46.918685",
     "exception": false,
     "start_time": "2024-03-02T15:53:46.735784",
     "status": "completed"
    },
    "tags": []
   },
   "outputs": [],
   "source": [
    "from sklearn.feature_extraction.text import CountVectorizer\n",
    "from sklearn.feature_extraction.text import TfidfVectorizer\n",
    "from sklearn.ensemble import RandomForestClassifier"
   ]
  },
  {
   "cell_type": "code",
   "execution_count": 18,
   "id": "bbf1255c",
   "metadata": {
    "execution": {
     "iopub.execute_input": "2024-03-02T15:53:46.965948Z",
     "iopub.status.busy": "2024-03-02T15:53:46.965532Z",
     "iopub.status.idle": "2024-03-02T15:53:46.970615Z",
     "shell.execute_reply": "2024-03-02T15:53:46.969354Z"
    },
    "papermill": {
     "duration": 0.031218,
     "end_time": "2024-03-02T15:53:46.972940",
     "exception": false,
     "start_time": "2024-03-02T15:53:46.941722",
     "status": "completed"
    },
    "tags": []
   },
   "outputs": [],
   "source": [
    "# countvector=CountVectorizer(ngram_range=(2,2))\n",
    "countvector=TfidfVectorizer(ngram_range=(1,1))"
   ]
  },
  {
   "cell_type": "code",
   "execution_count": 19,
   "id": "34a17cc1",
   "metadata": {
    "execution": {
     "iopub.execute_input": "2024-03-02T15:53:47.020602Z",
     "iopub.status.busy": "2024-03-02T15:53:47.020115Z",
     "iopub.status.idle": "2024-03-02T15:53:47.830317Z",
     "shell.execute_reply": "2024-03-02T15:53:47.829123Z"
    },
    "papermill": {
     "duration": 0.837101,
     "end_time": "2024-03-02T15:53:47.833171",
     "exception": false,
     "start_time": "2024-03-02T15:53:46.996070",
     "status": "completed"
    },
    "tags": []
   },
   "outputs": [],
   "source": [
    "traindataset=countvector.fit_transform(headlines)"
   ]
  },
  {
   "cell_type": "code",
   "execution_count": 20,
   "id": "858c92b4",
   "metadata": {
    "execution": {
     "iopub.execute_input": "2024-03-02T15:53:47.942848Z",
     "iopub.status.busy": "2024-03-02T15:53:47.942350Z",
     "iopub.status.idle": "2024-03-02T15:53:48.595080Z",
     "shell.execute_reply": "2024-03-02T15:53:48.593973Z"
    },
    "papermill": {
     "duration": 0.679265,
     "end_time": "2024-03-02T15:53:48.597763",
     "exception": false,
     "start_time": "2024-03-02T15:53:47.918498",
     "status": "completed"
    },
    "tags": []
   },
   "outputs": [
    {
     "data": {
      "text/plain": [
       "(1863, 21178)"
      ]
     },
     "execution_count": 20,
     "metadata": {},
     "output_type": "execute_result"
    }
   ],
   "source": [
    "traindataset = np.array(traindataset.todense())\n",
    "traindataset.shape"
   ]
  },
  {
   "cell_type": "code",
   "execution_count": null,
   "id": "f854b440",
   "metadata": {
    "papermill": {
     "duration": 0.022561,
     "end_time": "2024-03-02T15:53:48.643641",
     "exception": false,
     "start_time": "2024-03-02T15:53:48.621080",
     "status": "completed"
    },
    "tags": []
   },
   "outputs": [],
   "source": []
  },
  {
   "cell_type": "code",
   "execution_count": 21,
   "id": "6ec30ced",
   "metadata": {
    "execution": {
     "iopub.execute_input": "2024-03-02T15:53:48.691629Z",
     "iopub.status.busy": "2024-03-02T15:53:48.690539Z",
     "iopub.status.idle": "2024-03-02T15:53:55.607311Z",
     "shell.execute_reply": "2024-03-02T15:53:55.606343Z"
    },
    "papermill": {
     "duration": 6.943548,
     "end_time": "2024-03-02T15:53:55.609873",
     "exception": false,
     "start_time": "2024-03-02T15:53:48.666325",
     "status": "completed"
    },
    "tags": []
   },
   "outputs": [
    {
     "data": {
      "text/html": [
       "<style>#sk-container-id-1 {color: black;background-color: white;}#sk-container-id-1 pre{padding: 0;}#sk-container-id-1 div.sk-toggleable {background-color: white;}#sk-container-id-1 label.sk-toggleable__label {cursor: pointer;display: block;width: 100%;margin-bottom: 0;padding: 0.3em;box-sizing: border-box;text-align: center;}#sk-container-id-1 label.sk-toggleable__label-arrow:before {content: \"▸\";float: left;margin-right: 0.25em;color: #696969;}#sk-container-id-1 label.sk-toggleable__label-arrow:hover:before {color: black;}#sk-container-id-1 div.sk-estimator:hover label.sk-toggleable__label-arrow:before {color: black;}#sk-container-id-1 div.sk-toggleable__content {max-height: 0;max-width: 0;overflow: hidden;text-align: left;background-color: #f0f8ff;}#sk-container-id-1 div.sk-toggleable__content pre {margin: 0.2em;color: black;border-radius: 0.25em;background-color: #f0f8ff;}#sk-container-id-1 input.sk-toggleable__control:checked~div.sk-toggleable__content {max-height: 200px;max-width: 100%;overflow: auto;}#sk-container-id-1 input.sk-toggleable__control:checked~label.sk-toggleable__label-arrow:before {content: \"▾\";}#sk-container-id-1 div.sk-estimator input.sk-toggleable__control:checked~label.sk-toggleable__label {background-color: #d4ebff;}#sk-container-id-1 div.sk-label input.sk-toggleable__control:checked~label.sk-toggleable__label {background-color: #d4ebff;}#sk-container-id-1 input.sk-hidden--visually {border: 0;clip: rect(1px 1px 1px 1px);clip: rect(1px, 1px, 1px, 1px);height: 1px;margin: -1px;overflow: hidden;padding: 0;position: absolute;width: 1px;}#sk-container-id-1 div.sk-estimator {font-family: monospace;background-color: #f0f8ff;border: 1px dotted black;border-radius: 0.25em;box-sizing: border-box;margin-bottom: 0.5em;}#sk-container-id-1 div.sk-estimator:hover {background-color: #d4ebff;}#sk-container-id-1 div.sk-parallel-item::after {content: \"\";width: 100%;border-bottom: 1px solid gray;flex-grow: 1;}#sk-container-id-1 div.sk-label:hover label.sk-toggleable__label {background-color: #d4ebff;}#sk-container-id-1 div.sk-serial::before {content: \"\";position: absolute;border-left: 1px solid gray;box-sizing: border-box;top: 0;bottom: 0;left: 50%;z-index: 0;}#sk-container-id-1 div.sk-serial {display: flex;flex-direction: column;align-items: center;background-color: white;padding-right: 0.2em;padding-left: 0.2em;position: relative;}#sk-container-id-1 div.sk-item {position: relative;z-index: 1;}#sk-container-id-1 div.sk-parallel {display: flex;align-items: stretch;justify-content: center;background-color: white;position: relative;}#sk-container-id-1 div.sk-item::before, #sk-container-id-1 div.sk-parallel-item::before {content: \"\";position: absolute;border-left: 1px solid gray;box-sizing: border-box;top: 0;bottom: 0;left: 50%;z-index: -1;}#sk-container-id-1 div.sk-parallel-item {display: flex;flex-direction: column;z-index: 1;position: relative;background-color: white;}#sk-container-id-1 div.sk-parallel-item:first-child::after {align-self: flex-end;width: 50%;}#sk-container-id-1 div.sk-parallel-item:last-child::after {align-self: flex-start;width: 50%;}#sk-container-id-1 div.sk-parallel-item:only-child::after {width: 0;}#sk-container-id-1 div.sk-dashed-wrapped {border: 1px dashed gray;margin: 0 0.4em 0.5em 0.4em;box-sizing: border-box;padding-bottom: 0.4em;background-color: white;}#sk-container-id-1 div.sk-label label {font-family: monospace;font-weight: bold;display: inline-block;line-height: 1.2em;}#sk-container-id-1 div.sk-label-container {text-align: center;}#sk-container-id-1 div.sk-container {/* jupyter's `normalize.less` sets `[hidden] { display: none; }` but bootstrap.min.css set `[hidden] { display: none !important; }` so we also need the `!important` here to be able to override the default hidden behavior on the sphinx rendered scikit-learn.org. See: https://github.com/scikit-learn/scikit-learn/issues/21755 */display: inline-block !important;position: relative;}#sk-container-id-1 div.sk-text-repr-fallback {display: none;}</style><div id=\"sk-container-id-1\" class=\"sk-top-container\"><div class=\"sk-text-repr-fallback\"><pre>RandomForestClassifier()</pre><b>In a Jupyter environment, please rerun this cell to show the HTML representation or trust the notebook. <br />On GitHub, the HTML representation is unable to render, please try loading this page with nbviewer.org.</b></div><div class=\"sk-container\" hidden><div class=\"sk-item\"><div class=\"sk-estimator sk-toggleable\"><input class=\"sk-toggleable__control sk-hidden--visually\" id=\"sk-estimator-id-1\" type=\"checkbox\" checked><label for=\"sk-estimator-id-1\" class=\"sk-toggleable__label sk-toggleable__label-arrow\">RandomForestClassifier</label><div class=\"sk-toggleable__content\"><pre>RandomForestClassifier()</pre></div></div></div></div></div>"
      ],
      "text/plain": [
       "RandomForestClassifier()"
      ]
     },
     "execution_count": 21,
     "metadata": {},
     "output_type": "execute_result"
    }
   ],
   "source": [
    "randomclassifier=RandomForestClassifier()\n",
    "randomclassifier.fit(traindataset,news['Label'])"
   ]
  },
  {
   "cell_type": "code",
   "execution_count": null,
   "id": "05a23273",
   "metadata": {
    "papermill": {
     "duration": 0.022795,
     "end_time": "2024-03-02T15:53:55.655792",
     "exception": false,
     "start_time": "2024-03-02T15:53:55.632997",
     "status": "completed"
    },
    "tags": []
   },
   "outputs": [],
   "source": []
  },
  {
   "cell_type": "code",
   "execution_count": null,
   "id": "4d18c560",
   "metadata": {
    "papermill": {
     "duration": 0.022783,
     "end_time": "2024-03-02T15:53:55.701763",
     "exception": false,
     "start_time": "2024-03-02T15:53:55.678980",
     "status": "completed"
    },
    "tags": []
   },
   "outputs": [],
   "source": []
  },
  {
   "cell_type": "code",
   "execution_count": 22,
   "id": "ebde2e96",
   "metadata": {
    "execution": {
     "iopub.execute_input": "2024-03-02T15:53:55.749457Z",
     "iopub.status.busy": "2024-03-02T15:53:55.749065Z",
     "iopub.status.idle": "2024-03-02T15:53:55.942964Z",
     "shell.execute_reply": "2024-03-02T15:53:55.941726Z"
    },
    "papermill": {
     "duration": 0.221101,
     "end_time": "2024-03-02T15:53:55.945866",
     "exception": false,
     "start_time": "2024-03-02T15:53:55.724765",
     "status": "completed"
    },
    "tags": []
   },
   "outputs": [],
   "source": [
    "predictions = randomclassifier.predict_proba(traindataset)"
   ]
  },
  {
   "cell_type": "code",
   "execution_count": 23,
   "id": "9812346c",
   "metadata": {
    "execution": {
     "iopub.execute_input": "2024-03-02T15:53:55.994293Z",
     "iopub.status.busy": "2024-03-02T15:53:55.993884Z",
     "iopub.status.idle": "2024-03-02T15:53:56.001380Z",
     "shell.execute_reply": "2024-03-02T15:53:56.000328Z"
    },
    "papermill": {
     "duration": 0.03471,
     "end_time": "2024-03-02T15:53:56.003811",
     "exception": false,
     "start_time": "2024-03-02T15:53:55.969101",
     "status": "completed"
    },
    "tags": []
   },
   "outputs": [
    {
     "data": {
      "text/plain": [
       "array([[0.78, 0.22],\n",
       "       [0.13, 0.87],\n",
       "       [0.85, 0.15],\n",
       "       ...,\n",
       "       [0.18, 0.82],\n",
       "       [0.89, 0.11],\n",
       "       [0.83, 0.17]])"
      ]
     },
     "execution_count": 23,
     "metadata": {},
     "output_type": "execute_result"
    }
   ],
   "source": [
    "predictions"
   ]
  },
  {
   "cell_type": "code",
   "execution_count": 24,
   "id": "7828184d",
   "metadata": {
    "execution": {
     "iopub.execute_input": "2024-03-02T15:53:56.052572Z",
     "iopub.status.busy": "2024-03-02T15:53:56.052137Z",
     "iopub.status.idle": "2024-03-02T15:53:56.056778Z",
     "shell.execute_reply": "2024-03-02T15:53:56.055736Z"
    },
    "papermill": {
     "duration": 0.031731,
     "end_time": "2024-03-02T15:53:56.058975",
     "exception": false,
     "start_time": "2024-03-02T15:53:56.027244",
     "status": "completed"
    },
    "tags": []
   },
   "outputs": [],
   "source": [
    "predict1 = predictions[:, 1]"
   ]
  },
  {
   "cell_type": "code",
   "execution_count": 25,
   "id": "c8084a83",
   "metadata": {
    "execution": {
     "iopub.execute_input": "2024-03-02T15:53:56.107099Z",
     "iopub.status.busy": "2024-03-02T15:53:56.106678Z",
     "iopub.status.idle": "2024-03-02T15:53:56.112310Z",
     "shell.execute_reply": "2024-03-02T15:53:56.111178Z"
    },
    "papermill": {
     "duration": 0.03268,
     "end_time": "2024-03-02T15:53:56.114756",
     "exception": false,
     "start_time": "2024-03-02T15:53:56.082076",
     "status": "completed"
    },
    "tags": []
   },
   "outputs": [],
   "source": [
    "open_price = np.array(df['Open'])\n",
    "high_price = np.array(df['High'])"
   ]
  },
  {
   "cell_type": "code",
   "execution_count": 26,
   "id": "817d6cb5",
   "metadata": {
    "execution": {
     "iopub.execute_input": "2024-03-02T15:53:56.163686Z",
     "iopub.status.busy": "2024-03-02T15:53:56.163251Z",
     "iopub.status.idle": "2024-03-02T15:53:56.168439Z",
     "shell.execute_reply": "2024-03-02T15:53:56.167356Z"
    },
    "papermill": {
     "duration": 0.032487,
     "end_time": "2024-03-02T15:53:56.170837",
     "exception": false,
     "start_time": "2024-03-02T15:53:56.138350",
     "status": "completed"
    },
    "tags": []
   },
   "outputs": [],
   "source": [
    "     low_price = np.array(df['Low'])"
   ]
  },
  {
   "cell_type": "code",
   "execution_count": 27,
   "id": "8b615e7b",
   "metadata": {
    "execution": {
     "iopub.execute_input": "2024-03-02T15:53:56.219904Z",
     "iopub.status.busy": "2024-03-02T15:53:56.219048Z",
     "iopub.status.idle": "2024-03-02T15:53:56.224516Z",
     "shell.execute_reply": "2024-03-02T15:53:56.223337Z"
    },
    "papermill": {
     "duration": 0.032825,
     "end_time": "2024-03-02T15:53:56.226850",
     "exception": false,
     "start_time": "2024-03-02T15:53:56.194025",
     "status": "completed"
    },
    "tags": []
   },
   "outputs": [],
   "source": [
    "train = np.stack((predict1, open_price, low_price, high_price), axis=1) "
   ]
  },
  {
   "cell_type": "code",
   "execution_count": 28,
   "id": "56db7029",
   "metadata": {
    "execution": {
     "iopub.execute_input": "2024-03-02T15:53:56.276907Z",
     "iopub.status.busy": "2024-03-02T15:53:56.276528Z",
     "iopub.status.idle": "2024-03-02T15:53:56.282627Z",
     "shell.execute_reply": "2024-03-02T15:53:56.281611Z"
    },
    "papermill": {
     "duration": 0.033313,
     "end_time": "2024-03-02T15:53:56.285027",
     "exception": false,
     "start_time": "2024-03-02T15:53:56.251714",
     "status": "completed"
    },
    "tags": []
   },
   "outputs": [
    {
     "data": {
      "text/plain": [
       "(1863, 4)"
      ]
     },
     "execution_count": 28,
     "metadata": {},
     "output_type": "execute_result"
    }
   ],
   "source": [
    "train.shape"
   ]
  },
  {
   "cell_type": "code",
   "execution_count": 29,
   "id": "8bfe6295",
   "metadata": {
    "execution": {
     "iopub.execute_input": "2024-03-02T15:53:56.333715Z",
     "iopub.status.busy": "2024-03-02T15:53:56.333319Z",
     "iopub.status.idle": "2024-03-02T15:53:56.340834Z",
     "shell.execute_reply": "2024-03-02T15:53:56.339639Z"
    },
    "papermill": {
     "duration": 0.034409,
     "end_time": "2024-03-02T15:53:56.343180",
     "exception": false,
     "start_time": "2024-03-02T15:53:56.308771",
     "status": "completed"
    },
    "tags": []
   },
   "outputs": [],
   "source": [
    "scores = np.array(scores)\n",
    "scores.shape\n",
    "train = np.append(scores, train, axis = 1)\n"
   ]
  },
  {
   "cell_type": "code",
   "execution_count": null,
   "id": "ee675a9d",
   "metadata": {
    "papermill": {
     "duration": 0.02316,
     "end_time": "2024-03-02T15:53:56.391226",
     "exception": false,
     "start_time": "2024-03-02T15:53:56.368066",
     "status": "completed"
    },
    "tags": []
   },
   "outputs": [],
   "source": [
    "\n"
   ]
  },
  {
   "cell_type": "code",
   "execution_count": 30,
   "id": "498b6ad4",
   "metadata": {
    "execution": {
     "iopub.execute_input": "2024-03-02T15:53:56.440095Z",
     "iopub.status.busy": "2024-03-02T15:53:56.439705Z",
     "iopub.status.idle": "2024-03-02T15:53:56.444764Z",
     "shell.execute_reply": "2024-03-02T15:53:56.443672Z"
    },
    "papermill": {
     "duration": 0.03183,
     "end_time": "2024-03-02T15:53:56.446942",
     "exception": false,
     "start_time": "2024-03-02T15:53:56.415112",
     "status": "completed"
    },
    "tags": []
   },
   "outputs": [],
   "source": [
    "from sklearn.linear_model import LinearRegression\n",
    "\n",
    "from sklearn.ensemble import RandomForestRegressor"
   ]
  },
  {
   "cell_type": "code",
   "execution_count": null,
   "id": "017a8dfd",
   "metadata": {
    "papermill": {
     "duration": 0.023903,
     "end_time": "2024-03-02T15:53:56.494844",
     "exception": false,
     "start_time": "2024-03-02T15:53:56.470941",
     "status": "completed"
    },
    "tags": []
   },
   "outputs": [],
   "source": []
  },
  {
   "cell_type": "code",
   "execution_count": 31,
   "id": "42056e11",
   "metadata": {
    "execution": {
     "iopub.execute_input": "2024-03-02T15:53:56.543203Z",
     "iopub.status.busy": "2024-03-02T15:53:56.542826Z",
     "iopub.status.idle": "2024-03-02T15:53:56.547780Z",
     "shell.execute_reply": "2024-03-02T15:53:56.546690Z"
    },
    "papermill": {
     "duration": 0.031816,
     "end_time": "2024-03-02T15:53:56.550147",
     "exception": false,
     "start_time": "2024-03-02T15:53:56.518331",
     "status": "completed"
    },
    "tags": []
   },
   "outputs": [],
   "source": [
    "trainY = df['Close']"
   ]
  },
  {
   "cell_type": "code",
   "execution_count": 32,
   "id": "57e7fcbe",
   "metadata": {
    "execution": {
     "iopub.execute_input": "2024-03-02T15:53:56.600176Z",
     "iopub.status.busy": "2024-03-02T15:53:56.599783Z",
     "iopub.status.idle": "2024-03-02T15:53:57.591006Z",
     "shell.execute_reply": "2024-03-02T15:53:57.589230Z"
    },
    "papermill": {
     "duration": 1.021723,
     "end_time": "2024-03-02T15:53:57.595289",
     "exception": false,
     "start_time": "2024-03-02T15:53:56.573566",
     "status": "completed"
    },
    "tags": []
   },
   "outputs": [
    {
     "name": "stdout",
     "output_type": "stream",
     "text": [
      "0.9997000373415479\n"
     ]
    }
   ],
   "source": [
    "regr = LinearRegression()\n",
    "rfreg=RandomForestRegressor()\n",
    "rfreg.fit(train, trainY)\n",
    "regr.fit(train, trainY)\n",
    "print(regr.score(train, trainY))"
   ]
  },
  {
   "cell_type": "code",
   "execution_count": 33,
   "id": "689a9866",
   "metadata": {
    "execution": {
     "iopub.execute_input": "2024-03-02T15:53:57.694549Z",
     "iopub.status.busy": "2024-03-02T15:53:57.693846Z",
     "iopub.status.idle": "2024-03-02T15:53:57.716705Z",
     "shell.execute_reply": "2024-03-02T15:53:57.715775Z"
    },
    "papermill": {
     "duration": 0.07493,
     "end_time": "2024-03-02T15:53:57.719198",
     "exception": false,
     "start_time": "2024-03-02T15:53:57.644268",
     "status": "completed"
    },
    "tags": []
   },
   "outputs": [],
   "source": [
    "\n",
    "test_news=pd.read_csv('../input/stock-market-prediction-and-sentimental-analysis/Test_Combined_News.csv')"
   ]
  },
  {
   "cell_type": "code",
   "execution_count": 34,
   "id": "b9c9b02d",
   "metadata": {
    "execution": {
     "iopub.execute_input": "2024-03-02T15:53:57.769258Z",
     "iopub.status.busy": "2024-03-02T15:53:57.768534Z",
     "iopub.status.idle": "2024-03-02T15:53:57.792827Z",
     "shell.execute_reply": "2024-03-02T15:53:57.791707Z"
    },
    "papermill": {
     "duration": 0.052548,
     "end_time": "2024-03-02T15:53:57.795657",
     "exception": false,
     "start_time": "2024-03-02T15:53:57.743109",
     "status": "completed"
    },
    "tags": []
   },
   "outputs": [
    {
     "data": {
      "text/html": [
       "<div>\n",
       "<style scoped>\n",
       "    .dataframe tbody tr th:only-of-type {\n",
       "        vertical-align: middle;\n",
       "    }\n",
       "\n",
       "    .dataframe tbody tr th {\n",
       "        vertical-align: top;\n",
       "    }\n",
       "\n",
       "    .dataframe thead th {\n",
       "        text-align: right;\n",
       "    }\n",
       "</style>\n",
       "<table border=\"1\" class=\"dataframe\">\n",
       "  <thead>\n",
       "    <tr style=\"text-align: right;\">\n",
       "      <th></th>\n",
       "      <th>Date</th>\n",
       "      <th>Label</th>\n",
       "      <th>Top1</th>\n",
       "      <th>Top2</th>\n",
       "      <th>Top3</th>\n",
       "      <th>Top4</th>\n",
       "      <th>Top5</th>\n",
       "      <th>Top6</th>\n",
       "      <th>Top7</th>\n",
       "      <th>Top8</th>\n",
       "      <th>...</th>\n",
       "      <th>Top16</th>\n",
       "      <th>Top17</th>\n",
       "      <th>Top18</th>\n",
       "      <th>Top19</th>\n",
       "      <th>Top20</th>\n",
       "      <th>Top21</th>\n",
       "      <th>Top22</th>\n",
       "      <th>Top23</th>\n",
       "      <th>Top24</th>\n",
       "      <th>Top25</th>\n",
       "    </tr>\n",
       "  </thead>\n",
       "  <tbody>\n",
       "    <tr>\n",
       "      <th>0</th>\n",
       "      <td>04-01-2016</td>\n",
       "      <td>0</td>\n",
       "      <td>Saudi Arabia breaks off ties with Iran - Amid ...</td>\n",
       "      <td>Exclusive: UK Government urged to reveal its r...</td>\n",
       "      <td>China halts trading as stocks fall 7%</td>\n",
       "      <td>Earthquake measuring 6.8 magnitude strikes India</td>\n",
       "      <td>A virus linked to shrinking newborns brains is...</td>\n",
       "      <td>New photos of SpaceX booster show sooty, but u...</td>\n",
       "      <td>Indian consulate in Afghanistan under attack b...</td>\n",
       "      <td>Iran calls off Major Hajj</td>\n",
       "      <td>...</td>\n",
       "      <td>Iranian leaders website posts controversial im...</td>\n",
       "      <td>After Bahrain, Sudan expels Iranian ambassador...</td>\n",
       "      <td>Saudi Arabia to cut off all air traffic with I...</td>\n",
       "      <td>Hezbollah sets off large border bomb targeting...</td>\n",
       "      <td>Iranian diplomats given 48 hours to leave Saud...</td>\n",
       "      <td>BBC News: Migrant crisis: Sweden border checks...</td>\n",
       "      <td>Teachers claim the politics of austerity is le...</td>\n",
       "      <td>The Aftermath of a Muslim Cleric's Execution i...</td>\n",
       "      <td>Iran: 40 arrested for attack on Saudi embassy</td>\n",
       "      <td>Oil prices jump over 2 pct on Saudi Arabia, Ir...</td>\n",
       "    </tr>\n",
       "    <tr>\n",
       "      <th>1</th>\n",
       "      <td>05-01-2016</td>\n",
       "      <td>1</td>\n",
       "      <td>Dutch government backs strong encryption, cond...</td>\n",
       "      <td>ISIS Militants Strap Bomb on 4 Year-Old Boy an...</td>\n",
       "      <td>Canada proceeding with controversial $15-billi...</td>\n",
       "      <td>Brazil is heading for its worst recession sinc...</td>\n",
       "      <td>British ISIS militant's desperate plea for doc...</td>\n",
       "      <td>Malaysia's schools will start holding anti-ISI...</td>\n",
       "      <td>Saudi Arabia omitted from UK death penalty str...</td>\n",
       "      <td>ISIS executes first female journalist. One of ...</td>\n",
       "      <td>...</td>\n",
       "      <td>'Fat cat Tuesday' as top bosses pay overtakes ...</td>\n",
       "      <td>\"The United Nations special rapporteur for hum...</td>\n",
       "      <td>Merkel rejects Bavarian bid for refugee limit:...</td>\n",
       "      <td>Yemen centre for blind 'hit in Saudi coalition...</td>\n",
       "      <td>Mass murderer Anders Behring Breiviks court ca...</td>\n",
       "      <td>Kuwait has recalled its ambassador to Iran in ...</td>\n",
       "      <td>Britain set for first mass strike by doctors i...</td>\n",
       "      <td>First known hacker-caused power outage signals...</td>\n",
       "      <td>Kuwait becomes latest Saudi ally to downgrade ...</td>\n",
       "      <td>'Do Your Cars Emit Oxygen?' Indian Supreme Cou...</td>\n",
       "    </tr>\n",
       "    <tr>\n",
       "      <th>2</th>\n",
       "      <td>06-01-2016</td>\n",
       "      <td>0</td>\n",
       "      <td>China shuts down stock market after 15 min 7% ...</td>\n",
       "      <td>Armed suspect shot dead after trying to storm ...</td>\n",
       "      <td>Oil price falls below $35 a barrel to fresh 11...</td>\n",
       "      <td>Germans outraged by mayors advice for women af...</td>\n",
       "      <td>German public broadcaster ZDF has apologised f...</td>\n",
       "      <td>Iran accuses Saudis of bombing their embassy i...</td>\n",
       "      <td>Protesters demand Canada cancel $15B Saudi con...</td>\n",
       "      <td>'Snooper's charter' will cost British lives, M...</td>\n",
       "      <td>...</td>\n",
       "      <td>Rio Olympic stadium has no water or electricit...</td>\n",
       "      <td>Saudi-led air strikes in Yemen hit centre for ...</td>\n",
       "      <td>Truck bomb kills 65 at Libyan police training ...</td>\n",
       "      <td>Israeli Tourists on Tour Bus Attacked by Maske...</td>\n",
       "      <td>Israel and China have signed a document of und...</td>\n",
       "      <td>Donald Trump threatens to pull 700m investment...</td>\n",
       "      <td>Israel busts Hamas terror cell planning abduct...</td>\n",
       "      <td>A working hospital in central China was demoli...</td>\n",
       "      <td>Paris to close Champs Elysees to cars one Sund...</td>\n",
       "      <td>TransCanada Corp files US$15-billion lawsuit a...</td>\n",
       "    </tr>\n",
       "    <tr>\n",
       "      <th>3</th>\n",
       "      <td>07-01-2016</td>\n",
       "      <td>0</td>\n",
       "      <td>Reports of sexual assaults on women across Eur...</td>\n",
       "      <td>Shelter forcibly converted children to Christi...</td>\n",
       "      <td>Iran Has Banned Its Citizens from Making Pilgr...</td>\n",
       "      <td>Gaddafi warned Blair his ousting would 'open d...</td>\n",
       "      <td>A Turkish firm has been selling fake life vest...</td>\n",
       "      <td>German minister says deportations possible in ...</td>\n",
       "      <td>Mao statue in China 'pulled down by authoritie...</td>\n",
       "      <td>A poacher-hunting dog in South Africa has been...</td>\n",
       "      <td>...</td>\n",
       "      <td>Charlie Hebdo anniversary: free-speech groups ...</td>\n",
       "      <td>Polish president signs bill putting state medi...</td>\n",
       "      <td>Mein Kampf hits stores in tense Germany</td>\n",
       "      <td>Morocco Bans WhatsApp, Skype, Viber and Other ...</td>\n",
       "      <td>The UN library announced its most-checked-out ...</td>\n",
       "      <td>One third of the worlds freshwater fish are at...</td>\n",
       "      <td>Nuclear weapons risk greater than in cold war,...</td>\n",
       "      <td>North Korea Claims That It Tested the \"H-Bomb ...</td>\n",
       "      <td>UK - DWP told woman she was not ill enough for...</td>\n",
       "      <td>Venezuela's new parliament removes pictures of...</td>\n",
       "    </tr>\n",
       "    <tr>\n",
       "      <th>4</th>\n",
       "      <td>08-01-2016</td>\n",
       "      <td>0</td>\n",
       "      <td>El Chapo' Being Taken to Same Prison He Escape...</td>\n",
       "      <td>El Chapo has been caught</td>\n",
       "      <td>At least 231 children abused at Catholic boys ...</td>\n",
       "      <td>North Korea has defended its latest nuclear te...</td>\n",
       "      <td>A group of United Nations' experts have warned...</td>\n",
       "      <td>Gunman opens fire on hotel popular with wester...</td>\n",
       "      <td>French Proposal to Strip Citizenship Over Terr...</td>\n",
       "      <td>Hungary will never support EU sanctions agains...</td>\n",
       "      <td>...</td>\n",
       "      <td>Swiss missionary has been kidnapped from her h...</td>\n",
       "      <td>NASA's Fermi satellite completes map of the sk...</td>\n",
       "      <td>US condemns Israel expanding West Bank settlem...</td>\n",
       "      <td>Hundreds of Syrians Are Turned Back at Beirut ...</td>\n",
       "      <td>Iranian Soccer Player Jailed Over Photos With ...</td>\n",
       "      <td>Saudi Arabia executions: Philip Hammond condem...</td>\n",
       "      <td>Venezuela's Economy Czar: \"Inflation Does Not ...</td>\n",
       "      <td>Seychelles, in a first-ever debt restructuring...</td>\n",
       "      <td>A Germans Video Likens Mao to Hitler, and Chin...</td>\n",
       "      <td>Cereal harvests across world \"fall by 10% in 5...</td>\n",
       "    </tr>\n",
       "  </tbody>\n",
       "</table>\n",
       "<p>5 rows × 27 columns</p>\n",
       "</div>"
      ],
      "text/plain": [
       "         Date  Label                                               Top1  \\\n",
       "0  04-01-2016      0  Saudi Arabia breaks off ties with Iran - Amid ...   \n",
       "1  05-01-2016      1  Dutch government backs strong encryption, cond...   \n",
       "2  06-01-2016      0  China shuts down stock market after 15 min 7% ...   \n",
       "3  07-01-2016      0  Reports of sexual assaults on women across Eur...   \n",
       "4  08-01-2016      0  El Chapo' Being Taken to Same Prison He Escape...   \n",
       "\n",
       "                                                Top2  \\\n",
       "0  Exclusive: UK Government urged to reveal its r...   \n",
       "1  ISIS Militants Strap Bomb on 4 Year-Old Boy an...   \n",
       "2  Armed suspect shot dead after trying to storm ...   \n",
       "3  Shelter forcibly converted children to Christi...   \n",
       "4                           El Chapo has been caught   \n",
       "\n",
       "                                                Top3  \\\n",
       "0              China halts trading as stocks fall 7%   \n",
       "1  Canada proceeding with controversial $15-billi...   \n",
       "2  Oil price falls below $35 a barrel to fresh 11...   \n",
       "3  Iran Has Banned Its Citizens from Making Pilgr...   \n",
       "4  At least 231 children abused at Catholic boys ...   \n",
       "\n",
       "                                                Top4  \\\n",
       "0   Earthquake measuring 6.8 magnitude strikes India   \n",
       "1  Brazil is heading for its worst recession sinc...   \n",
       "2  Germans outraged by mayors advice for women af...   \n",
       "3  Gaddafi warned Blair his ousting would 'open d...   \n",
       "4  North Korea has defended its latest nuclear te...   \n",
       "\n",
       "                                                Top5  \\\n",
       "0  A virus linked to shrinking newborns brains is...   \n",
       "1  British ISIS militant's desperate plea for doc...   \n",
       "2  German public broadcaster ZDF has apologised f...   \n",
       "3  A Turkish firm has been selling fake life vest...   \n",
       "4  A group of United Nations' experts have warned...   \n",
       "\n",
       "                                                Top6  \\\n",
       "0  New photos of SpaceX booster show sooty, but u...   \n",
       "1  Malaysia's schools will start holding anti-ISI...   \n",
       "2  Iran accuses Saudis of bombing their embassy i...   \n",
       "3  German minister says deportations possible in ...   \n",
       "4  Gunman opens fire on hotel popular with wester...   \n",
       "\n",
       "                                                Top7  \\\n",
       "0  Indian consulate in Afghanistan under attack b...   \n",
       "1  Saudi Arabia omitted from UK death penalty str...   \n",
       "2  Protesters demand Canada cancel $15B Saudi con...   \n",
       "3  Mao statue in China 'pulled down by authoritie...   \n",
       "4  French Proposal to Strip Citizenship Over Terr...   \n",
       "\n",
       "                                                Top8  ...  \\\n",
       "0                          Iran calls off Major Hajj  ...   \n",
       "1  ISIS executes first female journalist. One of ...  ...   \n",
       "2  'Snooper's charter' will cost British lives, M...  ...   \n",
       "3  A poacher-hunting dog in South Africa has been...  ...   \n",
       "4  Hungary will never support EU sanctions agains...  ...   \n",
       "\n",
       "                                               Top16  \\\n",
       "0  Iranian leaders website posts controversial im...   \n",
       "1  'Fat cat Tuesday' as top bosses pay overtakes ...   \n",
       "2  Rio Olympic stadium has no water or electricit...   \n",
       "3  Charlie Hebdo anniversary: free-speech groups ...   \n",
       "4  Swiss missionary has been kidnapped from her h...   \n",
       "\n",
       "                                               Top17  \\\n",
       "0  After Bahrain, Sudan expels Iranian ambassador...   \n",
       "1  \"The United Nations special rapporteur for hum...   \n",
       "2  Saudi-led air strikes in Yemen hit centre for ...   \n",
       "3  Polish president signs bill putting state medi...   \n",
       "4  NASA's Fermi satellite completes map of the sk...   \n",
       "\n",
       "                                               Top18  \\\n",
       "0  Saudi Arabia to cut off all air traffic with I...   \n",
       "1  Merkel rejects Bavarian bid for refugee limit:...   \n",
       "2  Truck bomb kills 65 at Libyan police training ...   \n",
       "3            Mein Kampf hits stores in tense Germany   \n",
       "4  US condemns Israel expanding West Bank settlem...   \n",
       "\n",
       "                                               Top19  \\\n",
       "0  Hezbollah sets off large border bomb targeting...   \n",
       "1  Yemen centre for blind 'hit in Saudi coalition...   \n",
       "2  Israeli Tourists on Tour Bus Attacked by Maske...   \n",
       "3  Morocco Bans WhatsApp, Skype, Viber and Other ...   \n",
       "4  Hundreds of Syrians Are Turned Back at Beirut ...   \n",
       "\n",
       "                                               Top20  \\\n",
       "0  Iranian diplomats given 48 hours to leave Saud...   \n",
       "1  Mass murderer Anders Behring Breiviks court ca...   \n",
       "2  Israel and China have signed a document of und...   \n",
       "3  The UN library announced its most-checked-out ...   \n",
       "4  Iranian Soccer Player Jailed Over Photos With ...   \n",
       "\n",
       "                                               Top21  \\\n",
       "0  BBC News: Migrant crisis: Sweden border checks...   \n",
       "1  Kuwait has recalled its ambassador to Iran in ...   \n",
       "2  Donald Trump threatens to pull 700m investment...   \n",
       "3  One third of the worlds freshwater fish are at...   \n",
       "4  Saudi Arabia executions: Philip Hammond condem...   \n",
       "\n",
       "                                               Top22  \\\n",
       "0  Teachers claim the politics of austerity is le...   \n",
       "1  Britain set for first mass strike by doctors i...   \n",
       "2  Israel busts Hamas terror cell planning abduct...   \n",
       "3  Nuclear weapons risk greater than in cold war,...   \n",
       "4  Venezuela's Economy Czar: \"Inflation Does Not ...   \n",
       "\n",
       "                                               Top23  \\\n",
       "0  The Aftermath of a Muslim Cleric's Execution i...   \n",
       "1  First known hacker-caused power outage signals...   \n",
       "2  A working hospital in central China was demoli...   \n",
       "3  North Korea Claims That It Tested the \"H-Bomb ...   \n",
       "4  Seychelles, in a first-ever debt restructuring...   \n",
       "\n",
       "                                               Top24  \\\n",
       "0      Iran: 40 arrested for attack on Saudi embassy   \n",
       "1  Kuwait becomes latest Saudi ally to downgrade ...   \n",
       "2  Paris to close Champs Elysees to cars one Sund...   \n",
       "3  UK - DWP told woman she was not ill enough for...   \n",
       "4  A Germans Video Likens Mao to Hitler, and Chin...   \n",
       "\n",
       "                                               Top25  \n",
       "0  Oil prices jump over 2 pct on Saudi Arabia, Ir...  \n",
       "1  'Do Your Cars Emit Oxygen?' Indian Supreme Cou...  \n",
       "2  TransCanada Corp files US$15-billion lawsuit a...  \n",
       "3  Venezuela's new parliament removes pictures of...  \n",
       "4  Cereal harvests across world \"fall by 10% in 5...  \n",
       "\n",
       "[5 rows x 27 columns]"
      ]
     },
     "execution_count": 34,
     "metadata": {},
     "output_type": "execute_result"
    }
   ],
   "source": [
    "test_news.head()"
   ]
  },
  {
   "cell_type": "code",
   "execution_count": 35,
   "id": "334b46b5",
   "metadata": {
    "execution": {
     "iopub.execute_input": "2024-03-02T15:53:57.847095Z",
     "iopub.status.busy": "2024-03-02T15:53:57.846660Z",
     "iopub.status.idle": "2024-03-02T15:53:57.872430Z",
     "shell.execute_reply": "2024-03-02T15:53:57.871115Z"
    },
    "papermill": {
     "duration": 0.053987,
     "end_time": "2024-03-02T15:53:57.874807",
     "exception": false,
     "start_time": "2024-03-02T15:53:57.820820",
     "status": "completed"
    },
    "tags": []
   },
   "outputs": [
    {
     "data": {
      "text/html": [
       "<div>\n",
       "<style scoped>\n",
       "    .dataframe tbody tr th:only-of-type {\n",
       "        vertical-align: middle;\n",
       "    }\n",
       "\n",
       "    .dataframe tbody tr th {\n",
       "        vertical-align: top;\n",
       "    }\n",
       "\n",
       "    .dataframe thead th {\n",
       "        text-align: right;\n",
       "    }\n",
       "</style>\n",
       "<table border=\"1\" class=\"dataframe\">\n",
       "  <thead>\n",
       "    <tr style=\"text-align: right;\">\n",
       "      <th></th>\n",
       "      <th>Date</th>\n",
       "      <th>Label</th>\n",
       "      <th>Top1</th>\n",
       "      <th>Top2</th>\n",
       "      <th>Top3</th>\n",
       "      <th>Top4</th>\n",
       "      <th>Top5</th>\n",
       "      <th>Top6</th>\n",
       "      <th>Top7</th>\n",
       "      <th>Top8</th>\n",
       "      <th>...</th>\n",
       "      <th>Top16</th>\n",
       "      <th>Top17</th>\n",
       "      <th>Top18</th>\n",
       "      <th>Top19</th>\n",
       "      <th>Top20</th>\n",
       "      <th>Top21</th>\n",
       "      <th>Top22</th>\n",
       "      <th>Top23</th>\n",
       "      <th>Top24</th>\n",
       "      <th>Top25</th>\n",
       "    </tr>\n",
       "  </thead>\n",
       "  <tbody>\n",
       "    <tr>\n",
       "      <th>121</th>\n",
       "      <td>27-06-2016</td>\n",
       "      <td>0</td>\n",
       "      <td>Barclays and RBS shares suspended from trading...</td>\n",
       "      <td>Pope says Church should ask forgiveness from g...</td>\n",
       "      <td>Poland 'shocked' by xenophobic abuse of Poles ...</td>\n",
       "      <td>There will be no second referendum, cabinet ag...</td>\n",
       "      <td>Scotland welcome to join EU, Merkel ally says</td>\n",
       "      <td>Sterling dips below Friday's 31-year low amid ...</td>\n",
       "      <td>No negative news about South African President...</td>\n",
       "      <td>Surge in Hate Crimes in the U.K. Following U.K...</td>\n",
       "      <td>...</td>\n",
       "      <td>German lawyers to probe Erdogan over alleged w...</td>\n",
       "      <td>Boris Johnson says the UK will continue to \"in...</td>\n",
       "      <td>Richard Branson is calling on the UK governmen...</td>\n",
       "      <td>Turkey 'sorry for downing Russian jet'</td>\n",
       "      <td>Edward Snowden lawyer vows new push for pardon...</td>\n",
       "      <td>Brexit opinion poll reveals majority don't wan...</td>\n",
       "      <td>Conservative MP Leave Campaigner: \"The leave c...</td>\n",
       "      <td>Economists predict UK recession, further weake...</td>\n",
       "      <td>New EU 'superstate plan by France, Germany: Cr...</td>\n",
       "      <td>Pakistani clerics declare transgender marriage...</td>\n",
       "    </tr>\n",
       "    <tr>\n",
       "      <th>122</th>\n",
       "      <td>28-06-2016</td>\n",
       "      <td>1</td>\n",
       "      <td>2,500 Scientists To Australia: If You Want To ...</td>\n",
       "      <td>The personal details of 112,000 French police ...</td>\n",
       "      <td>S&amp;amp;P cuts United Kingdom sovereign credit r...</td>\n",
       "      <td>Huge helium deposit found in Africa</td>\n",
       "      <td>CEO of the South African state broadcaster qui...</td>\n",
       "      <td>Brexit cost investors $2 trillion, the worst o...</td>\n",
       "      <td>Hong Kong democracy activists call for return ...</td>\n",
       "      <td>Brexit: Iceland president says UK can join 'tr...</td>\n",
       "      <td>...</td>\n",
       "      <td>US, Canada and Mexico pledge 50% of power from...</td>\n",
       "      <td>There is increasing evidence that Australia is...</td>\n",
       "      <td>Richard Branson, the founder of Virgin Group, ...</td>\n",
       "      <td>37,000-yr-old skull from Borneo reveals surpri...</td>\n",
       "      <td>Palestinians stone Western Wall worshipers; po...</td>\n",
       "      <td>Jean-Claude Juncker asks Farage: Why are you h...</td>\n",
       "      <td>\"Romanians for Remainians\" offering a new home...</td>\n",
       "      <td>Brexit: Gibraltar in talks with Scotland to st...</td>\n",
       "      <td>8 Suicide Bombers Strike Lebanon</td>\n",
       "      <td>Mexico's security forces routinely use 'sexual...</td>\n",
       "    </tr>\n",
       "    <tr>\n",
       "      <th>123</th>\n",
       "      <td>29-06-2016</td>\n",
       "      <td>1</td>\n",
       "      <td>Explosion At Airport In Istanbul</td>\n",
       "      <td>Yemeni former president: Terrorism is the offs...</td>\n",
       "      <td>UK must accept freedom of movement to access E...</td>\n",
       "      <td>Devastated: scientists too late to captive bre...</td>\n",
       "      <td>British Labor Party leader Jeremy Corbyn loses...</td>\n",
       "      <td>A Muslim Shop in the UK Was Just Firebombed Wh...</td>\n",
       "      <td>Mexican Authorities Sexually Torture Women in ...</td>\n",
       "      <td>UK shares and pound continue to recover</td>\n",
       "      <td>...</td>\n",
       "      <td>Escape Tunnel, Dug by Hand, Is Found at Holoca...</td>\n",
       "      <td>The land under Beijing is sinking by as much a...</td>\n",
       "      <td>Car bomb and Anti-Islamic attack on Mosque in ...</td>\n",
       "      <td>Emaciated lions in Taiz Zoo are trapped in blo...</td>\n",
       "      <td>Rupert Murdoch describes Brexit as 'wonderful'...</td>\n",
       "      <td>More than 40 killed in Yemen suicide attacks</td>\n",
       "      <td>Google Found Disastrous Symantec and Norton Vu...</td>\n",
       "      <td>Extremist violence on the rise in Germany: Dom...</td>\n",
       "      <td>BBC News: Labour MPs pass Corbyn no-confidence...</td>\n",
       "      <td>Tiny New Zealand town with 'too many jobs' lau...</td>\n",
       "    </tr>\n",
       "    <tr>\n",
       "      <th>124</th>\n",
       "      <td>30-06-2016</td>\n",
       "      <td>1</td>\n",
       "      <td>Jamaica proposes marijuana dispensers for tour...</td>\n",
       "      <td>Stephen Hawking says pollution and 'stupidity'...</td>\n",
       "      <td>Boris Johnson says he will not run for Tory pa...</td>\n",
       "      <td>Six gay men in Ivory Coast were abused and for...</td>\n",
       "      <td>Switzerland denies citizenship to Muslim immig...</td>\n",
       "      <td>Palestinian terrorist stabs israeli teen girl ...</td>\n",
       "      <td>Puerto Rico will default on $1 billion of debt...</td>\n",
       "      <td>Republic of Ireland fans to be awarded medal f...</td>\n",
       "      <td>...</td>\n",
       "      <td>Googles free wifi at Indian railway stations i...</td>\n",
       "      <td>Mounting evidence suggests 'hobbits' were wipe...</td>\n",
       "      <td>The men who carried out Tuesday's terror attac...</td>\n",
       "      <td>Calls to suspend Saudi Arabia from UN Human Ri...</td>\n",
       "      <td>More Than 100 Nobel Laureates Call Out Greenpe...</td>\n",
       "      <td>British pedophile sentenced to 85 years in US ...</td>\n",
       "      <td>US permitted 1,200 offshore fracks in Gulf of ...</td>\n",
       "      <td>We will be swimming in ridicule - French beach...</td>\n",
       "      <td>UEFA says no minutes of silence for Istanbul v...</td>\n",
       "      <td>Law Enforcement Sources: Gun Used in Paris Ter...</td>\n",
       "    </tr>\n",
       "    <tr>\n",
       "      <th>125</th>\n",
       "      <td>01-07-2016</td>\n",
       "      <td>1</td>\n",
       "      <td>A 117-year-old woman in Mexico City finally re...</td>\n",
       "      <td>IMF chief backs Athens as permanent Olympic host</td>\n",
       "      <td>The president of France says if Brexit won, so...</td>\n",
       "      <td>British Man Who Must Give Police 24 Hours' Not...</td>\n",
       "      <td>100+ Nobel laureates urge Greenpeace to stop o...</td>\n",
       "      <td>Brazil: Huge spike in number of police killing...</td>\n",
       "      <td>Austria's highest court annuls presidential el...</td>\n",
       "      <td>Facebook wins privacy case, can track any Belg...</td>\n",
       "      <td>...</td>\n",
       "      <td>The United States has placed Myanmar, Uzbekist...</td>\n",
       "      <td>S&amp;amp;P revises European Union credit rating t...</td>\n",
       "      <td>India gets $1 billion loan from World Bank for...</td>\n",
       "      <td>U.S. sailors detained by Iran spoke too much u...</td>\n",
       "      <td>Mass fish kill in Vietnam solved as Taiwan ste...</td>\n",
       "      <td>Philippines president Rodrigo Duterte urges pe...</td>\n",
       "      <td>Spain arrests three Pakistanis accused of prom...</td>\n",
       "      <td>Venezuela, where anger over food shortages is ...</td>\n",
       "      <td>A Hindu temple worker has been killed by three...</td>\n",
       "      <td>Ozone layer hole seems to be healing - US &amp;amp...</td>\n",
       "    </tr>\n",
       "  </tbody>\n",
       "</table>\n",
       "<p>5 rows × 27 columns</p>\n",
       "</div>"
      ],
      "text/plain": [
       "           Date  Label                                               Top1  \\\n",
       "121  27-06-2016      0  Barclays and RBS shares suspended from trading...   \n",
       "122  28-06-2016      1  2,500 Scientists To Australia: If You Want To ...   \n",
       "123  29-06-2016      1                   Explosion At Airport In Istanbul   \n",
       "124  30-06-2016      1  Jamaica proposes marijuana dispensers for tour...   \n",
       "125  01-07-2016      1  A 117-year-old woman in Mexico City finally re...   \n",
       "\n",
       "                                                  Top2  \\\n",
       "121  Pope says Church should ask forgiveness from g...   \n",
       "122  The personal details of 112,000 French police ...   \n",
       "123  Yemeni former president: Terrorism is the offs...   \n",
       "124  Stephen Hawking says pollution and 'stupidity'...   \n",
       "125   IMF chief backs Athens as permanent Olympic host   \n",
       "\n",
       "                                                  Top3  \\\n",
       "121  Poland 'shocked' by xenophobic abuse of Poles ...   \n",
       "122  S&amp;P cuts United Kingdom sovereign credit r...   \n",
       "123  UK must accept freedom of movement to access E...   \n",
       "124  Boris Johnson says he will not run for Tory pa...   \n",
       "125  The president of France says if Brexit won, so...   \n",
       "\n",
       "                                                  Top4  \\\n",
       "121  There will be no second referendum, cabinet ag...   \n",
       "122                Huge helium deposit found in Africa   \n",
       "123  Devastated: scientists too late to captive bre...   \n",
       "124  Six gay men in Ivory Coast were abused and for...   \n",
       "125  British Man Who Must Give Police 24 Hours' Not...   \n",
       "\n",
       "                                                  Top5  \\\n",
       "121      Scotland welcome to join EU, Merkel ally says   \n",
       "122  CEO of the South African state broadcaster qui...   \n",
       "123  British Labor Party leader Jeremy Corbyn loses...   \n",
       "124  Switzerland denies citizenship to Muslim immig...   \n",
       "125  100+ Nobel laureates urge Greenpeace to stop o...   \n",
       "\n",
       "                                                  Top6  \\\n",
       "121  Sterling dips below Friday's 31-year low amid ...   \n",
       "122  Brexit cost investors $2 trillion, the worst o...   \n",
       "123  A Muslim Shop in the UK Was Just Firebombed Wh...   \n",
       "124  Palestinian terrorist stabs israeli teen girl ...   \n",
       "125  Brazil: Huge spike in number of police killing...   \n",
       "\n",
       "                                                  Top7  \\\n",
       "121  No negative news about South African President...   \n",
       "122  Hong Kong democracy activists call for return ...   \n",
       "123  Mexican Authorities Sexually Torture Women in ...   \n",
       "124  Puerto Rico will default on $1 billion of debt...   \n",
       "125  Austria's highest court annuls presidential el...   \n",
       "\n",
       "                                                  Top8  ...  \\\n",
       "121  Surge in Hate Crimes in the U.K. Following U.K...  ...   \n",
       "122  Brexit: Iceland president says UK can join 'tr...  ...   \n",
       "123            UK shares and pound continue to recover  ...   \n",
       "124  Republic of Ireland fans to be awarded medal f...  ...   \n",
       "125  Facebook wins privacy case, can track any Belg...  ...   \n",
       "\n",
       "                                                 Top16  \\\n",
       "121  German lawyers to probe Erdogan over alleged w...   \n",
       "122  US, Canada and Mexico pledge 50% of power from...   \n",
       "123  Escape Tunnel, Dug by Hand, Is Found at Holoca...   \n",
       "124  Googles free wifi at Indian railway stations i...   \n",
       "125  The United States has placed Myanmar, Uzbekist...   \n",
       "\n",
       "                                                 Top17  \\\n",
       "121  Boris Johnson says the UK will continue to \"in...   \n",
       "122  There is increasing evidence that Australia is...   \n",
       "123  The land under Beijing is sinking by as much a...   \n",
       "124  Mounting evidence suggests 'hobbits' were wipe...   \n",
       "125  S&amp;P revises European Union credit rating t...   \n",
       "\n",
       "                                                 Top18  \\\n",
       "121  Richard Branson is calling on the UK governmen...   \n",
       "122  Richard Branson, the founder of Virgin Group, ...   \n",
       "123  Car bomb and Anti-Islamic attack on Mosque in ...   \n",
       "124  The men who carried out Tuesday's terror attac...   \n",
       "125  India gets $1 billion loan from World Bank for...   \n",
       "\n",
       "                                                 Top19  \\\n",
       "121             Turkey 'sorry for downing Russian jet'   \n",
       "122  37,000-yr-old skull from Borneo reveals surpri...   \n",
       "123  Emaciated lions in Taiz Zoo are trapped in blo...   \n",
       "124  Calls to suspend Saudi Arabia from UN Human Ri...   \n",
       "125  U.S. sailors detained by Iran spoke too much u...   \n",
       "\n",
       "                                                 Top20  \\\n",
       "121  Edward Snowden lawyer vows new push for pardon...   \n",
       "122  Palestinians stone Western Wall worshipers; po...   \n",
       "123  Rupert Murdoch describes Brexit as 'wonderful'...   \n",
       "124  More Than 100 Nobel Laureates Call Out Greenpe...   \n",
       "125  Mass fish kill in Vietnam solved as Taiwan ste...   \n",
       "\n",
       "                                                 Top21  \\\n",
       "121  Brexit opinion poll reveals majority don't wan...   \n",
       "122  Jean-Claude Juncker asks Farage: Why are you h...   \n",
       "123       More than 40 killed in Yemen suicide attacks   \n",
       "124  British pedophile sentenced to 85 years in US ...   \n",
       "125  Philippines president Rodrigo Duterte urges pe...   \n",
       "\n",
       "                                                 Top22  \\\n",
       "121  Conservative MP Leave Campaigner: \"The leave c...   \n",
       "122  \"Romanians for Remainians\" offering a new home...   \n",
       "123  Google Found Disastrous Symantec and Norton Vu...   \n",
       "124  US permitted 1,200 offshore fracks in Gulf of ...   \n",
       "125  Spain arrests three Pakistanis accused of prom...   \n",
       "\n",
       "                                                 Top23  \\\n",
       "121  Economists predict UK recession, further weake...   \n",
       "122  Brexit: Gibraltar in talks with Scotland to st...   \n",
       "123  Extremist violence on the rise in Germany: Dom...   \n",
       "124  We will be swimming in ridicule - French beach...   \n",
       "125  Venezuela, where anger over food shortages is ...   \n",
       "\n",
       "                                                 Top24  \\\n",
       "121  New EU 'superstate plan by France, Germany: Cr...   \n",
       "122                   8 Suicide Bombers Strike Lebanon   \n",
       "123  BBC News: Labour MPs pass Corbyn no-confidence...   \n",
       "124  UEFA says no minutes of silence for Istanbul v...   \n",
       "125  A Hindu temple worker has been killed by three...   \n",
       "\n",
       "                                                 Top25  \n",
       "121  Pakistani clerics declare transgender marriage...  \n",
       "122  Mexico's security forces routinely use 'sexual...  \n",
       "123  Tiny New Zealand town with 'too many jobs' lau...  \n",
       "124  Law Enforcement Sources: Gun Used in Paris Ter...  \n",
       "125  Ozone layer hole seems to be healing - US &amp...  \n",
       "\n",
       "[5 rows x 27 columns]"
      ]
     },
     "execution_count": 35,
     "metadata": {},
     "output_type": "execute_result"
    }
   ],
   "source": [
    "test_news.tail()"
   ]
  },
  {
   "cell_type": "code",
   "execution_count": 36,
   "id": "cbfee439",
   "metadata": {
    "execution": {
     "iopub.execute_input": "2024-03-02T15:53:57.926234Z",
     "iopub.status.busy": "2024-03-02T15:53:57.925827Z",
     "iopub.status.idle": "2024-03-02T15:53:57.987962Z",
     "shell.execute_reply": "2024-03-02T15:53:57.986813Z"
    },
    "papermill": {
     "duration": 0.091338,
     "end_time": "2024-03-02T15:53:57.991090",
     "exception": false,
     "start_time": "2024-03-02T15:53:57.899752",
     "status": "completed"
    },
    "tags": []
   },
   "outputs": [
    {
     "data": {
      "text/html": [
       "<div>\n",
       "<style scoped>\n",
       "    .dataframe tbody tr th:only-of-type {\n",
       "        vertical-align: middle;\n",
       "    }\n",
       "\n",
       "    .dataframe tbody tr th {\n",
       "        vertical-align: top;\n",
       "    }\n",
       "\n",
       "    .dataframe thead th {\n",
       "        text-align: right;\n",
       "    }\n",
       "</style>\n",
       "<table border=\"1\" class=\"dataframe\">\n",
       "  <thead>\n",
       "    <tr style=\"text-align: right;\">\n",
       "      <th></th>\n",
       "      <th>0</th>\n",
       "      <th>1</th>\n",
       "      <th>2</th>\n",
       "      <th>3</th>\n",
       "      <th>4</th>\n",
       "      <th>5</th>\n",
       "      <th>6</th>\n",
       "      <th>7</th>\n",
       "      <th>8</th>\n",
       "      <th>9</th>\n",
       "      <th>...</th>\n",
       "      <th>15</th>\n",
       "      <th>16</th>\n",
       "      <th>17</th>\n",
       "      <th>18</th>\n",
       "      <th>19</th>\n",
       "      <th>20</th>\n",
       "      <th>21</th>\n",
       "      <th>22</th>\n",
       "      <th>23</th>\n",
       "      <th>24</th>\n",
       "    </tr>\n",
       "  </thead>\n",
       "  <tbody>\n",
       "    <tr>\n",
       "      <th>0</th>\n",
       "      <td>Saudi Arabia breaks off ties with Iran   Amid ...</td>\n",
       "      <td>Exclusive  UK Government urged to reveal its r...</td>\n",
       "      <td>China halts trading as stocks fall</td>\n",
       "      <td>Earthquake measuring     magnitude strikes India</td>\n",
       "      <td>A virus linked to shrinking newborns brains is...</td>\n",
       "      <td>New photos of SpaceX booster show sooty  but u...</td>\n",
       "      <td>Indian consulate in Afghanistan under attack b...</td>\n",
       "      <td>Iran calls off Major Hajj</td>\n",
       "      <td>Denmark responds to Swedish border checks with...</td>\n",
       "      <td>David Cameron criticised for turning  blind ey...</td>\n",
       "      <td>...</td>\n",
       "      <td>Iranian leaders website posts controversial im...</td>\n",
       "      <td>After Bahrain  Sudan expels Iranian ambassador...</td>\n",
       "      <td>Saudi Arabia to cut off all air traffic with I...</td>\n",
       "      <td>Hezbollah sets off large border bomb targeting...</td>\n",
       "      <td>Iranian diplomats given    hours to leave Saud...</td>\n",
       "      <td>BBC News  Migrant crisis  Sweden border checks...</td>\n",
       "      <td>Teachers claim the politics of austerity is le...</td>\n",
       "      <td>The Aftermath of a Muslim Cleric s Execution i...</td>\n",
       "      <td>Iran     arrested for attack on Saudi embassy</td>\n",
       "      <td>Oil prices jump over   pct on Saudi Arabia  Ir...</td>\n",
       "    </tr>\n",
       "    <tr>\n",
       "      <th>1</th>\n",
       "      <td>Dutch government backs strong encryption  cond...</td>\n",
       "      <td>ISIS Militants Strap Bomb on   Year Old Boy an...</td>\n",
       "      <td>Canada proceeding with controversial     billi...</td>\n",
       "      <td>Brazil is heading for its worst recession sinc...</td>\n",
       "      <td>British ISIS militant s desperate plea for doc...</td>\n",
       "      <td>Malaysia s schools will start holding anti ISI...</td>\n",
       "      <td>Saudi Arabia omitted from UK death penalty str...</td>\n",
       "      <td>ISIS executes first female journalist  One of ...</td>\n",
       "      <td>The U S  Justice Department has sued Volkswage...</td>\n",
       "      <td>Leaked memo shows Saudi Arabia was fully prepa...</td>\n",
       "      <td>...</td>\n",
       "      <td>Fat cat Tuesday  as top bosses pay overtakes ...</td>\n",
       "      <td>The United Nations special rapporteur for hum...</td>\n",
       "      <td>Merkel rejects Bavarian bid for refugee limit ...</td>\n",
       "      <td>Yemen centre for blind  hit in Saudi coalition...</td>\n",
       "      <td>Mass murderer Anders Behring Breiviks court ca...</td>\n",
       "      <td>Kuwait has recalled its ambassador to Iran in ...</td>\n",
       "      <td>Britain set for first mass strike by doctors i...</td>\n",
       "      <td>First known hacker caused power outage signals...</td>\n",
       "      <td>Kuwait becomes latest Saudi ally to downgrade ...</td>\n",
       "      <td>Do Your Cars Emit Oxygen   Indian Supreme Cou...</td>\n",
       "    </tr>\n",
       "    <tr>\n",
       "      <th>2</th>\n",
       "      <td>China shuts down stock market after    min    ...</td>\n",
       "      <td>Armed suspect shot dead after trying to storm ...</td>\n",
       "      <td>Oil price falls below     a barrel to fresh   ...</td>\n",
       "      <td>Germans outraged by mayors advice for women af...</td>\n",
       "      <td>German public broadcaster ZDF has apologised f...</td>\n",
       "      <td>Iran accuses Saudis of bombing their embassy i...</td>\n",
       "      <td>Protesters demand Canada cancel    B Saudi con...</td>\n",
       "      <td>Snooper s charter  will cost British lives  M...</td>\n",
       "      <td>Islamic scholars from Malaysia and Indonesia i...</td>\n",
       "      <td>Turkish workshop employs Syrian minors to prod...</td>\n",
       "      <td>...</td>\n",
       "      <td>Rio Olympic stadium has no water or electricit...</td>\n",
       "      <td>Saudi led air strikes in Yemen hit centre for ...</td>\n",
       "      <td>Truck bomb kills    at Libyan police training ...</td>\n",
       "      <td>Israeli Tourists on Tour Bus Attacked by Maske...</td>\n",
       "      <td>Israel and China have signed a document of und...</td>\n",
       "      <td>Donald Trump threatens to pull    m investment...</td>\n",
       "      <td>Israel busts Hamas terror cell planning abduct...</td>\n",
       "      <td>A working hospital in central China was demoli...</td>\n",
       "      <td>Paris to close Champs Elysees to cars one Sund...</td>\n",
       "      <td>TransCanada Corp files US    billion lawsuit a...</td>\n",
       "    </tr>\n",
       "    <tr>\n",
       "      <th>3</th>\n",
       "      <td>Reports of sexual assaults on women across Eur...</td>\n",
       "      <td>Shelter forcibly converted children to Christi...</td>\n",
       "      <td>Iran Has Banned Its Citizens from Making Pilgr...</td>\n",
       "      <td>Gaddafi warned Blair his ousting would  open d...</td>\n",
       "      <td>A Turkish firm has been selling fake life vest...</td>\n",
       "      <td>German minister says deportations possible in ...</td>\n",
       "      <td>Mao statue in China  pulled down by authoritie...</td>\n",
       "      <td>A poacher hunting dog in South Africa has been...</td>\n",
       "      <td>Police  used terror powers to spy on officers ...</td>\n",
       "      <td>Iran Bans All Imports from Saudi Arabia</td>\n",
       "      <td>...</td>\n",
       "      <td>Charlie Hebdo anniversary  free speech groups ...</td>\n",
       "      <td>Polish president signs bill putting state medi...</td>\n",
       "      <td>Mein Kampf hits stores in tense Germany</td>\n",
       "      <td>Morocco Bans WhatsApp  Skype  Viber and Other ...</td>\n",
       "      <td>The UN library announced its most checked out ...</td>\n",
       "      <td>One third of the worlds freshwater fish are at...</td>\n",
       "      <td>Nuclear weapons risk greater than in cold war ...</td>\n",
       "      <td>North Korea Claims That It Tested the  H Bomb ...</td>\n",
       "      <td>UK   DWP told woman she was not ill enough for...</td>\n",
       "      <td>Venezuela s new parliament removes pictures of...</td>\n",
       "    </tr>\n",
       "    <tr>\n",
       "      <th>4</th>\n",
       "      <td>El Chapo  Being Taken to Same Prison He Escape...</td>\n",
       "      <td>El Chapo has been caught</td>\n",
       "      <td>At least     children abused at Catholic boys ...</td>\n",
       "      <td>North Korea has defended its latest nuclear te...</td>\n",
       "      <td>A group of United Nations  experts have warned...</td>\n",
       "      <td>Gunman opens fire on hotel popular with wester...</td>\n",
       "      <td>French Proposal to Strip Citizenship Over Terr...</td>\n",
       "      <td>Hungary will never support EU sanctions agains...</td>\n",
       "      <td>Inside Delhi s gadget graveyard where the West...</td>\n",
       "      <td>North Korea says South Korea s propaganda broa...</td>\n",
       "      <td>...</td>\n",
       "      <td>Swiss missionary has been kidnapped from her h...</td>\n",
       "      <td>NASA s Fermi satellite completes map of the sk...</td>\n",
       "      <td>US condemns Israel expanding West Bank settlem...</td>\n",
       "      <td>Hundreds of Syrians Are Turned Back at Beirut ...</td>\n",
       "      <td>Iranian Soccer Player Jailed Over Photos With ...</td>\n",
       "      <td>Saudi Arabia executions  Philip Hammond condem...</td>\n",
       "      <td>Venezuela s Economy Czar   Inflation Does Not ...</td>\n",
       "      <td>Seychelles  in a first ever debt restructuring...</td>\n",
       "      <td>A Germans Video Likens Mao to Hitler  and Chin...</td>\n",
       "      <td>Cereal harvests across world  fall by     in  ...</td>\n",
       "    </tr>\n",
       "  </tbody>\n",
       "</table>\n",
       "<p>5 rows × 25 columns</p>\n",
       "</div>"
      ],
      "text/plain": [
       "                                                   0  \\\n",
       "0  Saudi Arabia breaks off ties with Iran   Amid ...   \n",
       "1  Dutch government backs strong encryption  cond...   \n",
       "2  China shuts down stock market after    min    ...   \n",
       "3  Reports of sexual assaults on women across Eur...   \n",
       "4  El Chapo  Being Taken to Same Prison He Escape...   \n",
       "\n",
       "                                                   1  \\\n",
       "0  Exclusive  UK Government urged to reveal its r...   \n",
       "1  ISIS Militants Strap Bomb on   Year Old Boy an...   \n",
       "2  Armed suspect shot dead after trying to storm ...   \n",
       "3  Shelter forcibly converted children to Christi...   \n",
       "4                           El Chapo has been caught   \n",
       "\n",
       "                                                   2  \\\n",
       "0              China halts trading as stocks fall      \n",
       "1  Canada proceeding with controversial     billi...   \n",
       "2  Oil price falls below     a barrel to fresh   ...   \n",
       "3  Iran Has Banned Its Citizens from Making Pilgr...   \n",
       "4  At least     children abused at Catholic boys ...   \n",
       "\n",
       "                                                   3  \\\n",
       "0   Earthquake measuring     magnitude strikes India   \n",
       "1  Brazil is heading for its worst recession sinc...   \n",
       "2  Germans outraged by mayors advice for women af...   \n",
       "3  Gaddafi warned Blair his ousting would  open d...   \n",
       "4  North Korea has defended its latest nuclear te...   \n",
       "\n",
       "                                                   4  \\\n",
       "0  A virus linked to shrinking newborns brains is...   \n",
       "1  British ISIS militant s desperate plea for doc...   \n",
       "2  German public broadcaster ZDF has apologised f...   \n",
       "3  A Turkish firm has been selling fake life vest...   \n",
       "4  A group of United Nations  experts have warned...   \n",
       "\n",
       "                                                   5  \\\n",
       "0  New photos of SpaceX booster show sooty  but u...   \n",
       "1  Malaysia s schools will start holding anti ISI...   \n",
       "2  Iran accuses Saudis of bombing their embassy i...   \n",
       "3  German minister says deportations possible in ...   \n",
       "4  Gunman opens fire on hotel popular with wester...   \n",
       "\n",
       "                                                   6  \\\n",
       "0  Indian consulate in Afghanistan under attack b...   \n",
       "1  Saudi Arabia omitted from UK death penalty str...   \n",
       "2  Protesters demand Canada cancel    B Saudi con...   \n",
       "3  Mao statue in China  pulled down by authoritie...   \n",
       "4  French Proposal to Strip Citizenship Over Terr...   \n",
       "\n",
       "                                                   7  \\\n",
       "0                          Iran calls off Major Hajj   \n",
       "1  ISIS executes first female journalist  One of ...   \n",
       "2   Snooper s charter  will cost British lives  M...   \n",
       "3  A poacher hunting dog in South Africa has been...   \n",
       "4  Hungary will never support EU sanctions agains...   \n",
       "\n",
       "                                                   8  \\\n",
       "0  Denmark responds to Swedish border checks with...   \n",
       "1  The U S  Justice Department has sued Volkswage...   \n",
       "2  Islamic scholars from Malaysia and Indonesia i...   \n",
       "3  Police  used terror powers to spy on officers ...   \n",
       "4  Inside Delhi s gadget graveyard where the West...   \n",
       "\n",
       "                                                   9  ...  \\\n",
       "0  David Cameron criticised for turning  blind ey...  ...   \n",
       "1  Leaked memo shows Saudi Arabia was fully prepa...  ...   \n",
       "2  Turkish workshop employs Syrian minors to prod...  ...   \n",
       "3            Iran Bans All Imports from Saudi Arabia  ...   \n",
       "4  North Korea says South Korea s propaganda broa...  ...   \n",
       "\n",
       "                                                  15  \\\n",
       "0  Iranian leaders website posts controversial im...   \n",
       "1   Fat cat Tuesday  as top bosses pay overtakes ...   \n",
       "2  Rio Olympic stadium has no water or electricit...   \n",
       "3  Charlie Hebdo anniversary  free speech groups ...   \n",
       "4  Swiss missionary has been kidnapped from her h...   \n",
       "\n",
       "                                                  16  \\\n",
       "0  After Bahrain  Sudan expels Iranian ambassador...   \n",
       "1   The United Nations special rapporteur for hum...   \n",
       "2  Saudi led air strikes in Yemen hit centre for ...   \n",
       "3  Polish president signs bill putting state medi...   \n",
       "4  NASA s Fermi satellite completes map of the sk...   \n",
       "\n",
       "                                                  17  \\\n",
       "0  Saudi Arabia to cut off all air traffic with I...   \n",
       "1  Merkel rejects Bavarian bid for refugee limit ...   \n",
       "2  Truck bomb kills    at Libyan police training ...   \n",
       "3            Mein Kampf hits stores in tense Germany   \n",
       "4  US condemns Israel expanding West Bank settlem...   \n",
       "\n",
       "                                                  18  \\\n",
       "0  Hezbollah sets off large border bomb targeting...   \n",
       "1  Yemen centre for blind  hit in Saudi coalition...   \n",
       "2  Israeli Tourists on Tour Bus Attacked by Maske...   \n",
       "3  Morocco Bans WhatsApp  Skype  Viber and Other ...   \n",
       "4  Hundreds of Syrians Are Turned Back at Beirut ...   \n",
       "\n",
       "                                                  19  \\\n",
       "0  Iranian diplomats given    hours to leave Saud...   \n",
       "1  Mass murderer Anders Behring Breiviks court ca...   \n",
       "2  Israel and China have signed a document of und...   \n",
       "3  The UN library announced its most checked out ...   \n",
       "4  Iranian Soccer Player Jailed Over Photos With ...   \n",
       "\n",
       "                                                  20  \\\n",
       "0  BBC News  Migrant crisis  Sweden border checks...   \n",
       "1  Kuwait has recalled its ambassador to Iran in ...   \n",
       "2  Donald Trump threatens to pull    m investment...   \n",
       "3  One third of the worlds freshwater fish are at...   \n",
       "4  Saudi Arabia executions  Philip Hammond condem...   \n",
       "\n",
       "                                                  21  \\\n",
       "0  Teachers claim the politics of austerity is le...   \n",
       "1  Britain set for first mass strike by doctors i...   \n",
       "2  Israel busts Hamas terror cell planning abduct...   \n",
       "3  Nuclear weapons risk greater than in cold war ...   \n",
       "4  Venezuela s Economy Czar   Inflation Does Not ...   \n",
       "\n",
       "                                                  22  \\\n",
       "0  The Aftermath of a Muslim Cleric s Execution i...   \n",
       "1  First known hacker caused power outage signals...   \n",
       "2  A working hospital in central China was demoli...   \n",
       "3  North Korea Claims That It Tested the  H Bomb ...   \n",
       "4  Seychelles  in a first ever debt restructuring...   \n",
       "\n",
       "                                                  23  \\\n",
       "0      Iran     arrested for attack on Saudi embassy   \n",
       "1  Kuwait becomes latest Saudi ally to downgrade ...   \n",
       "2  Paris to close Champs Elysees to cars one Sund...   \n",
       "3  UK   DWP told woman she was not ill enough for...   \n",
       "4  A Germans Video Likens Mao to Hitler  and Chin...   \n",
       "\n",
       "                                                  24  \n",
       "0  Oil prices jump over   pct on Saudi Arabia  Ir...  \n",
       "1   Do Your Cars Emit Oxygen   Indian Supreme Cou...  \n",
       "2  TransCanada Corp files US    billion lawsuit a...  \n",
       "3  Venezuela s new parliament removes pictures of...  \n",
       "4  Cereal harvests across world  fall by     in  ...  \n",
       "\n",
       "[5 rows x 25 columns]"
      ]
     },
     "execution_count": 36,
     "metadata": {},
     "output_type": "execute_result"
    }
   ],
   "source": [
    "test_data = test_news.iloc[:, 2:27]\n",
    "test_data.replace(\"[^a-zA-Z]\",\" \",regex=True, inplace=True)\n",
    "\n",
    "# Renaming column names for ease of access\n",
    "test_list= [i for i in range(25)]\n",
    "test_new_Index=[str(i) for i in test_list]\n",
    "test_data.columns= test_new_Index\n",
    "test_data.head(5)"
   ]
  },
  {
   "cell_type": "code",
   "execution_count": 37,
   "id": "199fce24",
   "metadata": {
    "execution": {
     "iopub.execute_input": "2024-03-02T15:53:58.044615Z",
     "iopub.status.busy": "2024-03-02T15:53:58.043898Z",
     "iopub.status.idle": "2024-03-02T15:53:58.065957Z",
     "shell.execute_reply": "2024-03-02T15:53:58.064718Z"
    },
    "papermill": {
     "duration": 0.051424,
     "end_time": "2024-03-02T15:53:58.068295",
     "exception": false,
     "start_time": "2024-03-02T15:53:58.016871",
     "status": "completed"
    },
    "tags": []
   },
   "outputs": [],
   "source": [
    "test_headlines = []\n",
    "for row in range(0,len(test_data.index)):\n",
    "    test_headlines.append(' '.join(str(x) for x in test_data.iloc[row,0:25]))"
   ]
  },
  {
   "cell_type": "code",
   "execution_count": 38,
   "id": "5d628577",
   "metadata": {
    "execution": {
     "iopub.execute_input": "2024-03-02T15:53:58.121784Z",
     "iopub.status.busy": "2024-03-02T15:53:58.121040Z",
     "iopub.status.idle": "2024-03-02T15:53:59.631430Z",
     "shell.execute_reply": "2024-03-02T15:53:59.629938Z"
    },
    "papermill": {
     "duration": 1.540596,
     "end_time": "2024-03-02T15:53:59.634310",
     "exception": false,
     "start_time": "2024-03-02T15:53:58.093714",
     "status": "completed"
    },
    "tags": []
   },
   "outputs": [],
   "source": [
    "for i in range(test_data.shape[0]):\n",
    "    test_headlines[i] = ' '.join([ps.stem(word) for word in test_headlines[i].split() if not word in stop_words_dict])"
   ]
  },
  {
   "cell_type": "code",
   "execution_count": 39,
   "id": "24f53125",
   "metadata": {
    "execution": {
     "iopub.execute_input": "2024-03-02T15:53:59.687920Z",
     "iopub.status.busy": "2024-03-02T15:53:59.687284Z",
     "iopub.status.idle": "2024-03-02T15:54:00.557687Z",
     "shell.execute_reply": "2024-03-02T15:54:00.556569Z"
    },
    "papermill": {
     "duration": 0.900396,
     "end_time": "2024-03-02T15:54:00.560527",
     "exception": false,
     "start_time": "2024-03-02T15:53:59.660131",
     "status": "completed"
    },
    "tags": []
   },
   "outputs": [],
   "source": [
    "\n",
    "test_headlines.reverse()\n",
    "test_dataset=countvector.transform(test_headlines)\n",
    "test_d = pd.DataFrame(test_dataset.todense())\n",
    "test_scores = []\n",
    "for i in range(len(test_headlines)):\n",
    "    test_a = (analyzer.polarity_scores(test_headlines[i]))\n",
    "    test_scores.append([test_a['neg'], test_a['neu'], test_a['pos']])"
   ]
  },
  {
   "cell_type": "code",
   "execution_count": 40,
   "id": "2f6d958b",
   "metadata": {
    "execution": {
     "iopub.execute_input": "2024-03-02T15:54:00.612931Z",
     "iopub.status.busy": "2024-03-02T15:54:00.612528Z",
     "iopub.status.idle": "2024-03-02T15:54:00.644037Z",
     "shell.execute_reply": "2024-03-02T15:54:00.642776Z"
    },
    "papermill": {
     "duration": 0.061059,
     "end_time": "2024-03-02T15:54:00.646844",
     "exception": false,
     "start_time": "2024-03-02T15:54:00.585785",
     "status": "completed"
    },
    "tags": []
   },
   "outputs": [],
   "source": [
    "predictions = randomclassifier.predict_proba(test_dataset)"
   ]
  },
  {
   "cell_type": "code",
   "execution_count": 41,
   "id": "3702778f",
   "metadata": {
    "execution": {
     "iopub.execute_input": "2024-03-02T15:54:00.703343Z",
     "iopub.status.busy": "2024-03-02T15:54:00.702969Z",
     "iopub.status.idle": "2024-03-02T15:54:00.707468Z",
     "shell.execute_reply": "2024-03-02T15:54:00.706508Z"
    },
    "papermill": {
     "duration": 0.035733,
     "end_time": "2024-03-02T15:54:00.709509",
     "exception": false,
     "start_time": "2024-03-02T15:54:00.673776",
     "status": "completed"
    },
    "tags": []
   },
   "outputs": [],
   "source": [
    "predict2 = predictions[:, 1]"
   ]
  },
  {
   "cell_type": "code",
   "execution_count": 42,
   "id": "65278fc3",
   "metadata": {
    "execution": {
     "iopub.execute_input": "2024-03-02T15:54:00.762528Z",
     "iopub.status.busy": "2024-03-02T15:54:00.761719Z",
     "iopub.status.idle": "2024-03-02T15:54:00.771942Z",
     "shell.execute_reply": "2024-03-02T15:54:00.771042Z"
    },
    "papermill": {
     "duration": 0.039415,
     "end_time": "2024-03-02T15:54:00.774324",
     "exception": false,
     "start_time": "2024-03-02T15:54:00.734909",
     "status": "completed"
    },
    "tags": []
   },
   "outputs": [],
   "source": [
    "test_TABLE=pd.read_csv('../input/stock-market-prediction-and-sentimental-analysis/Test_DJIA_Table.csv')\n"
   ]
  },
  {
   "cell_type": "code",
   "execution_count": 43,
   "id": "7c9486c1",
   "metadata": {
    "execution": {
     "iopub.execute_input": "2024-03-02T15:54:00.827599Z",
     "iopub.status.busy": "2024-03-02T15:54:00.826856Z",
     "iopub.status.idle": "2024-03-02T15:54:00.839962Z",
     "shell.execute_reply": "2024-03-02T15:54:00.838679Z"
    },
    "papermill": {
     "duration": 0.042567,
     "end_time": "2024-03-02T15:54:00.842616",
     "exception": false,
     "start_time": "2024-03-02T15:54:00.800049",
     "status": "completed"
    },
    "tags": []
   },
   "outputs": [
    {
     "data": {
      "text/html": [
       "<div>\n",
       "<style scoped>\n",
       "    .dataframe tbody tr th:only-of-type {\n",
       "        vertical-align: middle;\n",
       "    }\n",
       "\n",
       "    .dataframe tbody tr th {\n",
       "        vertical-align: top;\n",
       "    }\n",
       "\n",
       "    .dataframe thead th {\n",
       "        text-align: right;\n",
       "    }\n",
       "</style>\n",
       "<table border=\"1\" class=\"dataframe\">\n",
       "  <thead>\n",
       "    <tr style=\"text-align: right;\">\n",
       "      <th></th>\n",
       "      <th>Date</th>\n",
       "      <th>Open</th>\n",
       "      <th>High</th>\n",
       "      <th>Low</th>\n",
       "      <th>Volume</th>\n",
       "    </tr>\n",
       "  </thead>\n",
       "  <tbody>\n",
       "    <tr>\n",
       "      <th>0</th>\n",
       "      <td>01-07-2016</td>\n",
       "      <td>17924.24023</td>\n",
       "      <td>18002.38086</td>\n",
       "      <td>17916.91016</td>\n",
       "      <td>82160000</td>\n",
       "    </tr>\n",
       "    <tr>\n",
       "      <th>1</th>\n",
       "      <td>30-06-2016</td>\n",
       "      <td>17712.75977</td>\n",
       "      <td>17930.60938</td>\n",
       "      <td>17711.80078</td>\n",
       "      <td>133030000</td>\n",
       "    </tr>\n",
       "    <tr>\n",
       "      <th>2</th>\n",
       "      <td>29-06-2016</td>\n",
       "      <td>17456.01953</td>\n",
       "      <td>17704.50977</td>\n",
       "      <td>17456.01953</td>\n",
       "      <td>106380000</td>\n",
       "    </tr>\n",
       "    <tr>\n",
       "      <th>3</th>\n",
       "      <td>28-06-2016</td>\n",
       "      <td>17190.50977</td>\n",
       "      <td>17409.72070</td>\n",
       "      <td>17190.50977</td>\n",
       "      <td>112190000</td>\n",
       "    </tr>\n",
       "    <tr>\n",
       "      <th>4</th>\n",
       "      <td>27-06-2016</td>\n",
       "      <td>17355.21094</td>\n",
       "      <td>17355.21094</td>\n",
       "      <td>17063.08008</td>\n",
       "      <td>138740000</td>\n",
       "    </tr>\n",
       "  </tbody>\n",
       "</table>\n",
       "</div>"
      ],
      "text/plain": [
       "         Date         Open         High          Low     Volume\n",
       "0  01-07-2016  17924.24023  18002.38086  17916.91016   82160000\n",
       "1  30-06-2016  17712.75977  17930.60938  17711.80078  133030000\n",
       "2  29-06-2016  17456.01953  17704.50977  17456.01953  106380000\n",
       "3  28-06-2016  17190.50977  17409.72070  17190.50977  112190000\n",
       "4  27-06-2016  17355.21094  17355.21094  17063.08008  138740000"
      ]
     },
     "execution_count": 43,
     "metadata": {},
     "output_type": "execute_result"
    }
   ],
   "source": [
    "test_TABLE.head()"
   ]
  },
  {
   "cell_type": "code",
   "execution_count": 44,
   "id": "d848c5f7",
   "metadata": {
    "execution": {
     "iopub.execute_input": "2024-03-02T15:54:00.896786Z",
     "iopub.status.busy": "2024-03-02T15:54:00.896310Z",
     "iopub.status.idle": "2024-03-02T15:54:00.902475Z",
     "shell.execute_reply": "2024-03-02T15:54:00.901304Z"
    },
    "papermill": {
     "duration": 0.036038,
     "end_time": "2024-03-02T15:54:00.904675",
     "exception": false,
     "start_time": "2024-03-02T15:54:00.868637",
     "status": "completed"
    },
    "tags": []
   },
   "outputs": [],
   "source": [
    "test_open=test_TABLE['Open']\n",
    "test_high=test_TABLE['High']\n",
    "test_low=test_TABLE['Low']"
   ]
  },
  {
   "cell_type": "code",
   "execution_count": 45,
   "id": "026e33bf",
   "metadata": {
    "execution": {
     "iopub.execute_input": "2024-03-02T15:54:00.958733Z",
     "iopub.status.busy": "2024-03-02T15:54:00.958062Z",
     "iopub.status.idle": "2024-03-02T15:54:00.963449Z",
     "shell.execute_reply": "2024-03-02T15:54:00.962470Z"
    },
    "papermill": {
     "duration": 0.035525,
     "end_time": "2024-03-02T15:54:00.965783",
     "exception": false,
     "start_time": "2024-03-02T15:54:00.930258",
     "status": "completed"
    },
    "tags": []
   },
   "outputs": [],
   "source": [
    "test = np.stack((predict2, test_open, test_high, test_low), axis=1) "
   ]
  },
  {
   "cell_type": "code",
   "execution_count": 46,
   "id": "59f1f7f7",
   "metadata": {
    "execution": {
     "iopub.execute_input": "2024-03-02T15:54:01.020344Z",
     "iopub.status.busy": "2024-03-02T15:54:01.019115Z",
     "iopub.status.idle": "2024-03-02T15:54:01.025637Z",
     "shell.execute_reply": "2024-03-02T15:54:01.024628Z"
    },
    "papermill": {
     "duration": 0.036797,
     "end_time": "2024-03-02T15:54:01.028189",
     "exception": false,
     "start_time": "2024-03-02T15:54:00.991392",
     "status": "completed"
    },
    "tags": []
   },
   "outputs": [],
   "source": [
    "test_scores = np.array(test_scores)\n",
    "test_scores.shape\n",
    "test = np.append(test_scores, test, axis = 1)"
   ]
  },
  {
   "cell_type": "code",
   "execution_count": 47,
   "id": "b0234407",
   "metadata": {
    "execution": {
     "iopub.execute_input": "2024-03-02T15:54:01.081621Z",
     "iopub.status.busy": "2024-03-02T15:54:01.080784Z",
     "iopub.status.idle": "2024-03-02T15:54:01.093989Z",
     "shell.execute_reply": "2024-03-02T15:54:01.092990Z"
    },
    "papermill": {
     "duration": 0.042605,
     "end_time": "2024-03-02T15:54:01.096476",
     "exception": false,
     "start_time": "2024-03-02T15:54:01.053871",
     "status": "completed"
    },
    "tags": []
   },
   "outputs": [],
   "source": [
    "ans = regr.predict(test)*100000\n",
    "ans2 = rfreg.predict(test)*100000"
   ]
  },
  {
   "cell_type": "code",
   "execution_count": 48,
   "id": "d982a225",
   "metadata": {
    "execution": {
     "iopub.execute_input": "2024-03-02T15:54:01.150522Z",
     "iopub.status.busy": "2024-03-02T15:54:01.150071Z",
     "iopub.status.idle": "2024-03-02T15:54:01.155030Z",
     "shell.execute_reply": "2024-03-02T15:54:01.154085Z"
    },
    "papermill": {
     "duration": 0.034197,
     "end_time": "2024-03-02T15:54:01.157278",
     "exception": false,
     "start_time": "2024-03-02T15:54:01.123081",
     "status": "completed"
    },
    "tags": []
   },
   "outputs": [],
   "source": [
    "index = [i + 1 for i in range(len(ans))]"
   ]
  },
  {
   "cell_type": "code",
   "execution_count": 49,
   "id": "90e8565c",
   "metadata": {
    "execution": {
     "iopub.execute_input": "2024-03-02T15:54:01.210516Z",
     "iopub.status.busy": "2024-03-02T15:54:01.209812Z",
     "iopub.status.idle": "2024-03-02T15:54:01.221662Z",
     "shell.execute_reply": "2024-03-02T15:54:01.220802Z"
    },
    "papermill": {
     "duration": 0.041069,
     "end_time": "2024-03-02T15:54:01.223929",
     "exception": false,
     "start_time": "2024-03-02T15:54:01.182860",
     "status": "completed"
    },
    "tags": []
   },
   "outputs": [
    {
     "data": {
      "text/html": [
       "<div>\n",
       "<style scoped>\n",
       "    .dataframe tbody tr th:only-of-type {\n",
       "        vertical-align: middle;\n",
       "    }\n",
       "\n",
       "    .dataframe tbody tr th {\n",
       "        vertical-align: top;\n",
       "    }\n",
       "\n",
       "    .dataframe thead th {\n",
       "        text-align: right;\n",
       "    }\n",
       "</style>\n",
       "<table border=\"1\" class=\"dataframe\">\n",
       "  <thead>\n",
       "    <tr style=\"text-align: right;\">\n",
       "      <th></th>\n",
       "      <th>ID</th>\n",
       "      <th>Close</th>\n",
       "    </tr>\n",
       "  </thead>\n",
       "  <tbody>\n",
       "    <tr>\n",
       "      <th>0</th>\n",
       "      <td>1</td>\n",
       "      <td>1.798015e+09</td>\n",
       "    </tr>\n",
       "    <tr>\n",
       "      <th>1</th>\n",
       "      <td>2</td>\n",
       "      <td>1.788359e+09</td>\n",
       "    </tr>\n",
       "    <tr>\n",
       "      <th>2</th>\n",
       "      <td>3</td>\n",
       "      <td>1.765127e+09</td>\n",
       "    </tr>\n",
       "    <tr>\n",
       "      <th>3</th>\n",
       "      <td>4</td>\n",
       "      <td>1.736080e+09</td>\n",
       "    </tr>\n",
       "    <tr>\n",
       "      <th>4</th>\n",
       "      <td>5</td>\n",
       "      <td>1.710218e+09</td>\n",
       "    </tr>\n",
       "  </tbody>\n",
       "</table>\n",
       "</div>"
      ],
      "text/plain": [
       "   ID         Close\n",
       "0   1  1.798015e+09\n",
       "1   2  1.788359e+09\n",
       "2   3  1.765127e+09\n",
       "3   4  1.736080e+09\n",
       "4   5  1.710218e+09"
      ]
     },
     "execution_count": 49,
     "metadata": {},
     "output_type": "execute_result"
    }
   ],
   "source": [
    "dict = {'ID': index, 'Close': ans}\n",
    "dict2 = {'ID': index, 'Close': ans2}\n",
    "     \n",
    "df = pd.DataFrame(dict)\n",
    "df2 = pd.DataFrame(dict2)\n",
    "# saving the dataframe\n",
    "df.head(5)"
   ]
  },
  {
   "cell_type": "code",
   "execution_count": 50,
   "id": "e87d4dd8",
   "metadata": {
    "execution": {
     "iopub.execute_input": "2024-03-02T15:54:01.278340Z",
     "iopub.status.busy": "2024-03-02T15:54:01.277677Z",
     "iopub.status.idle": "2024-03-02T15:54:01.287398Z",
     "shell.execute_reply": "2024-03-02T15:54:01.286493Z"
    },
    "papermill": {
     "duration": 0.039611,
     "end_time": "2024-03-02T15:54:01.290006",
     "exception": false,
     "start_time": "2024-03-02T15:54:01.250395",
     "status": "completed"
    },
    "tags": []
   },
   "outputs": [
    {
     "data": {
      "text/html": [
       "<div>\n",
       "<style scoped>\n",
       "    .dataframe tbody tr th:only-of-type {\n",
       "        vertical-align: middle;\n",
       "    }\n",
       "\n",
       "    .dataframe tbody tr th {\n",
       "        vertical-align: top;\n",
       "    }\n",
       "\n",
       "    .dataframe thead th {\n",
       "        text-align: right;\n",
       "    }\n",
       "</style>\n",
       "<table border=\"1\" class=\"dataframe\">\n",
       "  <thead>\n",
       "    <tr style=\"text-align: right;\">\n",
       "      <th></th>\n",
       "      <th>ID</th>\n",
       "      <th>Close</th>\n",
       "    </tr>\n",
       "  </thead>\n",
       "  <tbody>\n",
       "    <tr>\n",
       "      <th>0</th>\n",
       "      <td>1</td>\n",
       "      <td>1.798727e+09</td>\n",
       "    </tr>\n",
       "    <tr>\n",
       "      <th>1</th>\n",
       "      <td>2</td>\n",
       "      <td>1.781252e+09</td>\n",
       "    </tr>\n",
       "    <tr>\n",
       "      <th>2</th>\n",
       "      <td>3</td>\n",
       "      <td>1.762058e+09</td>\n",
       "    </tr>\n",
       "    <tr>\n",
       "      <th>3</th>\n",
       "      <td>4</td>\n",
       "      <td>1.732852e+09</td>\n",
       "    </tr>\n",
       "    <tr>\n",
       "      <th>4</th>\n",
       "      <td>5</td>\n",
       "      <td>1.729680e+09</td>\n",
       "    </tr>\n",
       "  </tbody>\n",
       "</table>\n",
       "</div>"
      ],
      "text/plain": [
       "   ID         Close\n",
       "0   1  1.798727e+09\n",
       "1   2  1.781252e+09\n",
       "2   3  1.762058e+09\n",
       "3   4  1.732852e+09\n",
       "4   5  1.729680e+09"
      ]
     },
     "execution_count": 50,
     "metadata": {},
     "output_type": "execute_result"
    }
   ],
   "source": [
    "df2.head()"
   ]
  },
  {
   "cell_type": "code",
   "execution_count": 51,
   "id": "2a9afbf1",
   "metadata": {
    "execution": {
     "iopub.execute_input": "2024-03-02T15:54:01.346289Z",
     "iopub.status.busy": "2024-03-02T15:54:01.345613Z",
     "iopub.status.idle": "2024-03-02T15:54:01.354320Z",
     "shell.execute_reply": "2024-03-02T15:54:01.353145Z"
    },
    "papermill": {
     "duration": 0.039756,
     "end_time": "2024-03-02T15:54:01.356714",
     "exception": false,
     "start_time": "2024-03-02T15:54:01.316958",
     "status": "completed"
    },
    "tags": []
   },
   "outputs": [
    {
     "data": {
      "text/plain": [
       "array([1.79872725e+09, 1.78125162e+09, 1.76205762e+09, 1.73285174e+09,\n",
       "       1.72968009e+09, 1.77116705e+09, 1.79667768e+09, 1.78296813e+09,\n",
       "       1.78061972e+09, 1.78285433e+09, 1.77054985e+09, 1.76889028e+09,\n",
       "       1.77219157e+09, 1.77092484e+09, 1.77850716e+09, 1.78493665e+09,\n",
       "       1.79856204e+09, 1.79946634e+09, 1.79982965e+09, 1.78597042e+09,\n",
       "       1.77610385e+09, 1.77444271e+09, 1.77283107e+09, 1.77887508e+09,\n",
       "       1.78126279e+09, 1.78011856e+09, 1.77857927e+09, 1.76950509e+09,\n",
       "       1.75639937e+09, 1.75851434e+09, 1.73884322e+09, 1.75964453e+09,\n",
       "       1.76278400e+09, 1.76950348e+09, 1.76986284e+09, 1.77365145e+09,\n",
       "       1.78107439e+09, 1.78171039e+09, 1.77483420e+09, 1.76850662e+09,\n",
       "       1.77126471e+09, 1.77183993e+09, 1.77576649e+09, 1.78351674e+09,\n",
       "       1.77395133e+09, 1.78429322e+09, 1.80125385e+09, 1.80029366e+09,\n",
       "       1.79691788e+09, 1.79901924e+09, 1.80170998e+09, 1.80391995e+09,\n",
       "       1.80348490e+09, 1.79615849e+09, 1.79578686e+09, 1.79810169e+09,\n",
       "       1.78157536e+09, 1.76923002e+09, 1.76873266e+09, 1.76296601e+09,\n",
       "       1.76063048e+09, 1.76590012e+09, 1.76422045e+09, 1.77424848e+09,\n",
       "       1.77140523e+09, 1.77287905e+09, 1.77337553e+09, 1.76054922e+09,\n",
       "       1.75847228e+09, 1.75315271e+09, 1.75727447e+09, 1.75912852e+09,\n",
       "       1.76102836e+09, 1.76065303e+09, 1.73997257e+09, 1.73450818e+09,\n",
       "       1.72435394e+09, 1.72431945e+09, 1.72056382e+09, 1.70978570e+09,\n",
       "       1.70110592e+09, 1.70257630e+09, 1.70443276e+09, 1.70157100e+09,\n",
       "       1.69553088e+09, 1.68899389e+09, 1.68769872e+09, 1.67355839e+09,\n",
       "       1.68161801e+09, 1.67150773e+09, 1.64232965e+09, 1.65525039e+09,\n",
       "       1.67231478e+09, 1.64266759e+09, 1.65297581e+09, 1.63992835e+09,\n",
       "       1.61275797e+09, 1.57686057e+09, 1.56694904e+09, 1.60840633e+09,\n",
       "       1.60099320e+09, 1.59557179e+09, 1.63460508e+09, 1.64486336e+09,\n",
       "       1.63204538e+09, 1.63654830e+09, 1.64966306e+09, 1.63726348e+09,\n",
       "       1.59177325e+09, 1.60972058e+09, 1.60730753e+09, 1.59614934e+09,\n",
       "       1.60404727e+09, 1.57763662e+09, 1.56687750e+09, 1.60817725e+09,\n",
       "       1.62621136e+09, 1.63845559e+09, 1.64493713e+09, 1.65237489e+09,\n",
       "       1.63937109e+09, 1.66149909e+09, 1.68668727e+09, 1.71045572e+09,\n",
       "       1.71716022e+09, 1.72911413e+09])"
      ]
     },
     "execution_count": 51,
     "metadata": {},
     "output_type": "execute_result"
    }
   ],
   "source": [
    "ans2"
   ]
  },
  {
   "cell_type": "code",
   "execution_count": 52,
   "id": "53c0f248",
   "metadata": {
    "execution": {
     "iopub.execute_input": "2024-03-02T15:54:01.411560Z",
     "iopub.status.busy": "2024-03-02T15:54:01.411173Z",
     "iopub.status.idle": "2024-03-02T15:54:01.419344Z",
     "shell.execute_reply": "2024-03-02T15:54:01.418276Z"
    },
    "papermill": {
     "duration": 0.038256,
     "end_time": "2024-03-02T15:54:01.421827",
     "exception": false,
     "start_time": "2024-03-02T15:54:01.383571",
     "status": "completed"
    },
    "tags": []
   },
   "outputs": [
    {
     "data": {
      "text/plain": [
       "array([1.79801509e+09, 1.78835942e+09, 1.76512709e+09, 1.73608017e+09,\n",
       "       1.71021787e+09, 1.74424118e+09, 1.79746393e+09, 1.78505747e+09,\n",
       "       1.78449338e+09, 1.79011650e+09, 1.76237843e+09, 1.76091651e+09,\n",
       "       1.76856581e+09, 1.76310883e+09, 1.77973652e+09, 1.78304135e+09,\n",
       "       1.79515258e+09, 1.79977456e+09, 1.79878768e+09, 1.79202420e+09,\n",
       "       1.77343321e+09, 1.77551779e+09, 1.77206771e+09, 1.77586646e+09,\n",
       "       1.78600221e+09, 1.78300869e+09, 1.78571858e+09, 1.76937172e+09,\n",
       "       1.75191265e+09, 1.75423288e+09, 1.73586937e+09, 1.75391068e+09,\n",
       "       1.75055075e+09, 1.77061004e+09, 1.75592192e+09, 1.77050220e+09,\n",
       "       1.77407105e+09, 1.78896610e+09, 1.77098149e+09, 1.76632144e+09,\n",
       "       1.76789575e+09, 1.76313555e+09, 1.77016188e+09, 1.78748764e+09,\n",
       "       1.76751778e+09, 1.78394782e+09, 1.79991108e+09, 1.79866208e+09,\n",
       "       1.78748834e+09, 1.79551280e+09, 1.79895734e+09, 1.81205022e+09,\n",
       "       1.80592025e+09, 1.79480373e+09, 1.78829518e+09, 1.79264455e+09,\n",
       "       1.78766986e+09, 1.76942680e+09, 1.76700235e+09, 1.76402890e+09,\n",
       "       1.75181640e+09, 1.76425276e+09, 1.75981639e+09, 1.77274731e+09,\n",
       "       1.76972440e+09, 1.77062201e+09, 1.77610653e+09, 1.75476464e+09,\n",
       "       1.75436199e+09, 1.74378296e+09, 1.75021561e+09, 1.75886060e+09,\n",
       "       1.75993614e+09, 1.75861425e+09, 1.74617767e+09, 1.73104495e+09,\n",
       "       1.71672350e+09, 1.72248536e+09, 1.71747020e+09, 1.69418553e+09,\n",
       "       1.70128353e+09, 1.69577293e+09, 1.70298296e+09, 1.69975719e+09,\n",
       "       1.68728894e+09, 1.68201127e+09, 1.67961571e+09, 1.65995744e+09,\n",
       "       1.67005632e+09, 1.66162965e+09, 1.62728538e+09, 1.64327542e+09,\n",
       "       1.66090833e+09, 1.62971908e+09, 1.64265922e+09, 1.64270970e+09,\n",
       "       1.61591595e+09, 1.59155614e+09, 1.55640132e+09, 1.60503040e+09,\n",
       "       1.60007328e+09, 1.58538719e+09, 1.61751853e+09, 1.63959799e+09,\n",
       "       1.61441607e+09, 1.61540191e+09, 1.63704427e+09, 1.63883103e+09,\n",
       "       1.59888625e+09, 1.59726022e+09, 1.61220087e+09, 1.59071457e+09,\n",
       "       1.60909882e+09, 1.59269467e+09, 1.55292084e+09, 1.60443288e+09,\n",
       "       1.59177247e+09, 1.63409476e+09, 1.62367869e+09, 1.64711342e+09,\n",
       "       1.63295866e+09, 1.64481836e+09, 1.65277283e+09, 1.68678956e+09,\n",
       "       1.70927919e+09, 1.70218615e+09])"
      ]
     },
     "execution_count": 52,
     "metadata": {},
     "output_type": "execute_result"
    }
   ],
   "source": [
    "ans"
   ]
  },
  {
   "cell_type": "code",
   "execution_count": 53,
   "id": "7ed2fa7d",
   "metadata": {
    "execution": {
     "iopub.execute_input": "2024-03-02T15:54:01.477164Z",
     "iopub.status.busy": "2024-03-02T15:54:01.476187Z",
     "iopub.status.idle": "2024-03-02T15:54:01.480991Z",
     "shell.execute_reply": "2024-03-02T15:54:01.480217Z"
    },
    "papermill": {
     "duration": 0.03518,
     "end_time": "2024-03-02T15:54:01.483477",
     "exception": false,
     "start_time": "2024-03-02T15:54:01.448297",
     "status": "completed"
    },
    "tags": []
   },
   "outputs": [],
   "source": [
    "from sklearn.tree import DecisionTreeRegressor  \n",
    "  \n",
    "# create a regressor object \n",
    "regressor = DecisionTreeRegressor()  "
   ]
  },
  {
   "cell_type": "code",
   "execution_count": 54,
   "id": "462f5141",
   "metadata": {
    "execution": {
     "iopub.execute_input": "2024-03-02T15:54:01.540528Z",
     "iopub.status.busy": "2024-03-02T15:54:01.539348Z",
     "iopub.status.idle": "2024-03-02T15:54:01.559398Z",
     "shell.execute_reply": "2024-03-02T15:54:01.558568Z"
    },
    "papermill": {
     "duration": 0.050777,
     "end_time": "2024-03-02T15:54:01.561679",
     "exception": false,
     "start_time": "2024-03-02T15:54:01.510902",
     "status": "completed"
    },
    "tags": []
   },
   "outputs": [
    {
     "data": {
      "text/html": [
       "<style>#sk-container-id-2 {color: black;background-color: white;}#sk-container-id-2 pre{padding: 0;}#sk-container-id-2 div.sk-toggleable {background-color: white;}#sk-container-id-2 label.sk-toggleable__label {cursor: pointer;display: block;width: 100%;margin-bottom: 0;padding: 0.3em;box-sizing: border-box;text-align: center;}#sk-container-id-2 label.sk-toggleable__label-arrow:before {content: \"▸\";float: left;margin-right: 0.25em;color: #696969;}#sk-container-id-2 label.sk-toggleable__label-arrow:hover:before {color: black;}#sk-container-id-2 div.sk-estimator:hover label.sk-toggleable__label-arrow:before {color: black;}#sk-container-id-2 div.sk-toggleable__content {max-height: 0;max-width: 0;overflow: hidden;text-align: left;background-color: #f0f8ff;}#sk-container-id-2 div.sk-toggleable__content pre {margin: 0.2em;color: black;border-radius: 0.25em;background-color: #f0f8ff;}#sk-container-id-2 input.sk-toggleable__control:checked~div.sk-toggleable__content {max-height: 200px;max-width: 100%;overflow: auto;}#sk-container-id-2 input.sk-toggleable__control:checked~label.sk-toggleable__label-arrow:before {content: \"▾\";}#sk-container-id-2 div.sk-estimator input.sk-toggleable__control:checked~label.sk-toggleable__label {background-color: #d4ebff;}#sk-container-id-2 div.sk-label input.sk-toggleable__control:checked~label.sk-toggleable__label {background-color: #d4ebff;}#sk-container-id-2 input.sk-hidden--visually {border: 0;clip: rect(1px 1px 1px 1px);clip: rect(1px, 1px, 1px, 1px);height: 1px;margin: -1px;overflow: hidden;padding: 0;position: absolute;width: 1px;}#sk-container-id-2 div.sk-estimator {font-family: monospace;background-color: #f0f8ff;border: 1px dotted black;border-radius: 0.25em;box-sizing: border-box;margin-bottom: 0.5em;}#sk-container-id-2 div.sk-estimator:hover {background-color: #d4ebff;}#sk-container-id-2 div.sk-parallel-item::after {content: \"\";width: 100%;border-bottom: 1px solid gray;flex-grow: 1;}#sk-container-id-2 div.sk-label:hover label.sk-toggleable__label {background-color: #d4ebff;}#sk-container-id-2 div.sk-serial::before {content: \"\";position: absolute;border-left: 1px solid gray;box-sizing: border-box;top: 0;bottom: 0;left: 50%;z-index: 0;}#sk-container-id-2 div.sk-serial {display: flex;flex-direction: column;align-items: center;background-color: white;padding-right: 0.2em;padding-left: 0.2em;position: relative;}#sk-container-id-2 div.sk-item {position: relative;z-index: 1;}#sk-container-id-2 div.sk-parallel {display: flex;align-items: stretch;justify-content: center;background-color: white;position: relative;}#sk-container-id-2 div.sk-item::before, #sk-container-id-2 div.sk-parallel-item::before {content: \"\";position: absolute;border-left: 1px solid gray;box-sizing: border-box;top: 0;bottom: 0;left: 50%;z-index: -1;}#sk-container-id-2 div.sk-parallel-item {display: flex;flex-direction: column;z-index: 1;position: relative;background-color: white;}#sk-container-id-2 div.sk-parallel-item:first-child::after {align-self: flex-end;width: 50%;}#sk-container-id-2 div.sk-parallel-item:last-child::after {align-self: flex-start;width: 50%;}#sk-container-id-2 div.sk-parallel-item:only-child::after {width: 0;}#sk-container-id-2 div.sk-dashed-wrapped {border: 1px dashed gray;margin: 0 0.4em 0.5em 0.4em;box-sizing: border-box;padding-bottom: 0.4em;background-color: white;}#sk-container-id-2 div.sk-label label {font-family: monospace;font-weight: bold;display: inline-block;line-height: 1.2em;}#sk-container-id-2 div.sk-label-container {text-align: center;}#sk-container-id-2 div.sk-container {/* jupyter's `normalize.less` sets `[hidden] { display: none; }` but bootstrap.min.css set `[hidden] { display: none !important; }` so we also need the `!important` here to be able to override the default hidden behavior on the sphinx rendered scikit-learn.org. See: https://github.com/scikit-learn/scikit-learn/issues/21755 */display: inline-block !important;position: relative;}#sk-container-id-2 div.sk-text-repr-fallback {display: none;}</style><div id=\"sk-container-id-2\" class=\"sk-top-container\"><div class=\"sk-text-repr-fallback\"><pre>DecisionTreeRegressor()</pre><b>In a Jupyter environment, please rerun this cell to show the HTML representation or trust the notebook. <br />On GitHub, the HTML representation is unable to render, please try loading this page with nbviewer.org.</b></div><div class=\"sk-container\" hidden><div class=\"sk-item\"><div class=\"sk-estimator sk-toggleable\"><input class=\"sk-toggleable__control sk-hidden--visually\" id=\"sk-estimator-id-2\" type=\"checkbox\" checked><label for=\"sk-estimator-id-2\" class=\"sk-toggleable__label sk-toggleable__label-arrow\">DecisionTreeRegressor</label><div class=\"sk-toggleable__content\"><pre>DecisionTreeRegressor()</pre></div></div></div></div></div>"
      ],
      "text/plain": [
       "DecisionTreeRegressor()"
      ]
     },
     "execution_count": 54,
     "metadata": {},
     "output_type": "execute_result"
    }
   ],
   "source": [
    "regressor.fit(train, trainY)"
   ]
  },
  {
   "cell_type": "code",
   "execution_count": 55,
   "id": "768e33e7",
   "metadata": {
    "execution": {
     "iopub.execute_input": "2024-03-02T15:54:01.619985Z",
     "iopub.status.busy": "2024-03-02T15:54:01.619285Z",
     "iopub.status.idle": "2024-03-02T15:54:01.623673Z",
     "shell.execute_reply": "2024-03-02T15:54:01.622899Z"
    },
    "papermill": {
     "duration": 0.037171,
     "end_time": "2024-03-02T15:54:01.625782",
     "exception": false,
     "start_time": "2024-03-02T15:54:01.588611",
     "status": "completed"
    },
    "tags": []
   },
   "outputs": [],
   "source": [
    "ans3 = regressor.predict(test)"
   ]
  },
  {
   "cell_type": "code",
   "execution_count": 56,
   "id": "ea686c2a",
   "metadata": {
    "execution": {
     "iopub.execute_input": "2024-03-02T15:54:01.681966Z",
     "iopub.status.busy": "2024-03-02T15:54:01.681234Z",
     "iopub.status.idle": "2024-03-02T15:54:01.688694Z",
     "shell.execute_reply": "2024-03-02T15:54:01.687852Z"
    },
    "papermill": {
     "duration": 0.038641,
     "end_time": "2024-03-02T15:54:01.690991",
     "exception": false,
     "start_time": "2024-03-02T15:54:01.652350",
     "status": "completed"
    },
    "tags": []
   },
   "outputs": [
    {
     "data": {
      "text/plain": [
       "array([17983.07031, 17678.69922, 17613.74023, 17122.00977, 17122.00977,\n",
       "       17687.82031, 18057.65039, 17729.21094, 17729.21094, 17635.39063,\n",
       "       17568.5293 , 17687.82031, 17687.82031, 17678.69922, 17719.     ,\n",
       "       17730.10938, 18024.16992, 18038.23047, 18024.16992, 17732.75   ,\n",
       "       17687.82031, 17635.39063, 17635.39063, 17719.     , 17730.10938,\n",
       "       17732.75   , 17635.39063, 17687.82031, 17613.74023, 17619.50977,\n",
       "       16990.68945, 17712.66016, 17687.82031, 17687.82031, 17687.82031,\n",
       "       17687.82031, 17687.82031, 17635.39063, 17687.82031, 17687.82031,\n",
       "       17635.39063, 17719.     , 17678.23047, 17764.03906, 17687.82031,\n",
       "       17729.21094, 18057.65039, 17983.07031, 18057.65039, 17983.07031,\n",
       "       18080.14063, 17983.07031, 18057.65039, 17983.07031, 18038.26953,\n",
       "       18057.65039, 17635.39063, 17687.82031, 17687.82031, 17687.82031,\n",
       "       17635.39063, 17687.82031, 17687.82031, 17687.82031, 17687.82031,\n",
       "       17687.82031, 17719.     , 17623.05078, 17619.50977, 17477.40039,\n",
       "       17619.50977, 17568.5293 , 17687.82031, 17712.66016, 17215.9707 ,\n",
       "       17122.00977, 17122.00977, 17122.00977, 17122.00977, 17122.00977,\n",
       "       17098.44922, 17106.69922, 17122.00977, 17138.19922, 16976.24023,\n",
       "       16737.5293 , 16715.43945, 16722.33984, 16715.43945, 16737.5293 ,\n",
       "       16573.     , 16576.66016, 16722.33984, 16491.31055, 16576.66016,\n",
       "       16478.41016, 16492.67969, 15618.75977, 15568.92969, 16492.67969,\n",
       "       16492.67969, 16222.16992, 16462.74023, 16478.41016, 16437.05078,\n",
       "       16462.74023, 16580.83984, 16478.41016, 15914.62012, 16395.88086,\n",
       "       16492.67969, 15914.62012, 16492.67969, 15618.75977, 15568.92969,\n",
       "       16492.67969, 16408.53906, 16501.65039, 16606.26953, 16606.26953,\n",
       "       16478.41016, 16737.5293 , 16737.5293 , 17122.00977, 17122.00977,\n",
       "       17122.00977])"
      ]
     },
     "execution_count": 56,
     "metadata": {},
     "output_type": "execute_result"
    }
   ],
   "source": [
    "ans3"
   ]
  },
  {
   "cell_type": "code",
   "execution_count": 57,
   "id": "c783636b",
   "metadata": {
    "execution": {
     "iopub.execute_input": "2024-03-02T15:54:01.748016Z",
     "iopub.status.busy": "2024-03-02T15:54:01.747279Z",
     "iopub.status.idle": "2024-03-02T15:54:01.751545Z",
     "shell.execute_reply": "2024-03-02T15:54:01.750727Z"
    },
    "papermill": {
     "duration": 0.035194,
     "end_time": "2024-03-02T15:54:01.753919",
     "exception": false,
     "start_time": "2024-03-02T15:54:01.718725",
     "status": "completed"
    },
    "tags": []
   },
   "outputs": [],
   "source": [
    "ans3 = np.array(ans3)*100000"
   ]
  },
  {
   "cell_type": "code",
   "execution_count": 58,
   "id": "26a5736a",
   "metadata": {
    "execution": {
     "iopub.execute_input": "2024-03-02T15:54:01.810597Z",
     "iopub.status.busy": "2024-03-02T15:54:01.810163Z",
     "iopub.status.idle": "2024-03-02T15:54:01.818240Z",
     "shell.execute_reply": "2024-03-02T15:54:01.817483Z"
    },
    "papermill": {
     "duration": 0.039132,
     "end_time": "2024-03-02T15:54:01.820408",
     "exception": false,
     "start_time": "2024-03-02T15:54:01.781276",
     "status": "completed"
    },
    "tags": []
   },
   "outputs": [
    {
     "data": {
      "text/plain": [
       "array([1.79830703e+09, 1.76786992e+09, 1.76137402e+09, 1.71220098e+09,\n",
       "       1.71220098e+09, 1.76878203e+09, 1.80576504e+09, 1.77292109e+09,\n",
       "       1.77292109e+09, 1.76353906e+09, 1.75685293e+09, 1.76878203e+09,\n",
       "       1.76878203e+09, 1.76786992e+09, 1.77190000e+09, 1.77301094e+09,\n",
       "       1.80241699e+09, 1.80382305e+09, 1.80241699e+09, 1.77327500e+09,\n",
       "       1.76878203e+09, 1.76353906e+09, 1.76353906e+09, 1.77190000e+09,\n",
       "       1.77301094e+09, 1.77327500e+09, 1.76353906e+09, 1.76878203e+09,\n",
       "       1.76137402e+09, 1.76195098e+09, 1.69906895e+09, 1.77126602e+09,\n",
       "       1.76878203e+09, 1.76878203e+09, 1.76878203e+09, 1.76878203e+09,\n",
       "       1.76878203e+09, 1.76353906e+09, 1.76878203e+09, 1.76878203e+09,\n",
       "       1.76353906e+09, 1.77190000e+09, 1.76782305e+09, 1.77640391e+09,\n",
       "       1.76878203e+09, 1.77292109e+09, 1.80576504e+09, 1.79830703e+09,\n",
       "       1.80576504e+09, 1.79830703e+09, 1.80801406e+09, 1.79830703e+09,\n",
       "       1.80576504e+09, 1.79830703e+09, 1.80382695e+09, 1.80576504e+09,\n",
       "       1.76353906e+09, 1.76878203e+09, 1.76878203e+09, 1.76878203e+09,\n",
       "       1.76353906e+09, 1.76878203e+09, 1.76878203e+09, 1.76878203e+09,\n",
       "       1.76878203e+09, 1.76878203e+09, 1.77190000e+09, 1.76230508e+09,\n",
       "       1.76195098e+09, 1.74774004e+09, 1.76195098e+09, 1.75685293e+09,\n",
       "       1.76878203e+09, 1.77126602e+09, 1.72159707e+09, 1.71220098e+09,\n",
       "       1.71220098e+09, 1.71220098e+09, 1.71220098e+09, 1.71220098e+09,\n",
       "       1.70984492e+09, 1.71066992e+09, 1.71220098e+09, 1.71381992e+09,\n",
       "       1.69762402e+09, 1.67375293e+09, 1.67154395e+09, 1.67223398e+09,\n",
       "       1.67154395e+09, 1.67375293e+09, 1.65730000e+09, 1.65766602e+09,\n",
       "       1.67223398e+09, 1.64913105e+09, 1.65766602e+09, 1.64784102e+09,\n",
       "       1.64926797e+09, 1.56187598e+09, 1.55689297e+09, 1.64926797e+09,\n",
       "       1.64926797e+09, 1.62221699e+09, 1.64627402e+09, 1.64784102e+09,\n",
       "       1.64370508e+09, 1.64627402e+09, 1.65808398e+09, 1.64784102e+09,\n",
       "       1.59146201e+09, 1.63958809e+09, 1.64926797e+09, 1.59146201e+09,\n",
       "       1.64926797e+09, 1.56187598e+09, 1.55689297e+09, 1.64926797e+09,\n",
       "       1.64085391e+09, 1.65016504e+09, 1.66062695e+09, 1.66062695e+09,\n",
       "       1.64784102e+09, 1.67375293e+09, 1.67375293e+09, 1.71220098e+09,\n",
       "       1.71220098e+09, 1.71220098e+09])"
      ]
     },
     "execution_count": 58,
     "metadata": {},
     "output_type": "execute_result"
    }
   ],
   "source": [
    "ans3"
   ]
  },
  {
   "cell_type": "code",
   "execution_count": null,
   "id": "ac165e56",
   "metadata": {
    "papermill": {
     "duration": 0.026824,
     "end_time": "2024-03-02T15:54:01.874622",
     "exception": false,
     "start_time": "2024-03-02T15:54:01.847798",
     "status": "completed"
    },
    "tags": []
   },
   "outputs": [],
   "source": []
  }
 ],
 "metadata": {
  "kaggle": {
   "accelerator": "none",
   "dataSources": [
    {
     "databundleVersionId": 7805940,
     "sourceId": 70807,
     "sourceType": "competition"
    },
    {
     "datasetId": 4522000,
     "sourceId": 7737314,
     "sourceType": "datasetVersion"
    }
   ],
   "dockerImageVersionId": 30646,
   "isGpuEnabled": false,
   "isInternetEnabled": true,
   "language": "python",
   "sourceType": "notebook"
  },
  "kernelspec": {
   "display_name": "Python 3",
   "language": "python",
   "name": "python3"
  },
  "language_info": {
   "codemirror_mode": {
    "name": "ipython",
    "version": 3
   },
   "file_extension": ".py",
   "mimetype": "text/x-python",
   "name": "python",
   "nbconvert_exporter": "python",
   "pygments_lexer": "ipython3",
   "version": "3.10.13"
  },
  "papermill": {
   "default_parameters": {},
   "duration": 57.776416,
   "end_time": "2024-03-02T15:54:02.624527",
   "environment_variables": {},
   "exception": null,
   "input_path": "__notebook__.ipynb",
   "output_path": "__notebook__.ipynb",
   "parameters": {},
   "start_time": "2024-03-02T15:53:04.848111",
   "version": "2.5.0"
  }
 },
 "nbformat": 4,
 "nbformat_minor": 5
}
